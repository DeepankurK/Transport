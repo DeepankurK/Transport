{
 "cells": [
  {
   "cell_type": "code",
   "execution_count": 2,
   "metadata": {},
   "outputs": [],
   "source": [
    "import pandas as pd\n",
    "import numpy as np\n",
    "from sklearn.metrics import mean_absolute_error"
   ]
  },
  {
   "cell_type": "markdown",
   "metadata": {},
   "source": [
    "### Jan 2020"
   ]
  },
  {
   "cell_type": "code",
   "execution_count": 41,
   "metadata": {},
   "outputs": [],
   "source": [
    "df1=pd.read_csv(r\"E:\\Project- Flight Delay\\January 2020 raw\\Complete Jan Raw.csv\")"
   ]
  },
  {
   "cell_type": "code",
   "execution_count": 3,
   "metadata": {},
   "outputs": [
    {
     "data": {
      "text/plain": [
       "607346"
      ]
     },
     "execution_count": 3,
     "metadata": {},
     "output_type": "execute_result"
    }
   ],
   "source": [
    "len(df)"
   ]
  },
  {
   "cell_type": "code",
   "execution_count": 42,
   "metadata": {},
   "outputs": [
    {
     "data": {
      "text/plain": [
       "13686"
      ]
     },
     "execution_count": 42,
     "metadata": {},
     "output_type": "execute_result"
    }
   ],
   "source": [
    "df1=df1[df1['DEST']=='SFO'] #arrivals to SFO\n",
    "len(df1)"
   ]
  },
  {
   "cell_type": "code",
   "execution_count": 43,
   "metadata": {},
   "outputs": [
    {
     "data": {
      "text/plain": [
       "13484"
      ]
     },
     "execution_count": 43,
     "metadata": {},
     "output_type": "execute_result"
    }
   ],
   "source": [
    "df1=df1[df1['ARR_DELAY'].notnull()] # removing null values rows(includes cancelled and diverted flights)\n",
    "len(df1)"
   ]
  },
  {
   "cell_type": "markdown",
   "metadata": {},
   "source": [
    "13686-13484=202 flights were cancelled or diverted due to bad airport condition at origin or destination"
   ]
  },
  {
   "cell_type": "code",
   "execution_count": 44,
   "metadata": {},
   "outputs": [],
   "source": [
    "df1['JOURNEY_DELAY']=df1['ACTUAL_ELAPSED_TIME']-df1['CRS_ELAPSED_TIME']"
   ]
  },
  {
   "cell_type": "code",
   "execution_count": 46,
   "metadata": {},
   "outputs": [],
   "source": [
    "df1.to_csv(r'E:\\Project- Flight Delay\\Nov 2019\\Jan Complete SFO.csv')"
   ]
  },
  {
   "cell_type": "markdown",
   "metadata": {},
   "source": [
    "### December 2019"
   ]
  },
  {
   "cell_type": "code",
   "execution_count": 18,
   "metadata": {},
   "outputs": [
    {
     "data": {
      "text/plain": [
       "625763"
      ]
     },
     "execution_count": 18,
     "metadata": {},
     "output_type": "execute_result"
    }
   ],
   "source": [
    "df2=pd.read_csv(r\"E:\\Project- Flight Delay\\December 2019 raw\\Dec Complete Raw .csv\")\n",
    "len(df2)"
   ]
  },
  {
   "cell_type": "code",
   "execution_count": 20,
   "metadata": {},
   "outputs": [
    {
     "data": {
      "text/plain": [
       "14038"
      ]
     },
     "execution_count": 20,
     "metadata": {},
     "output_type": "execute_result"
    }
   ],
   "source": [
    "df2=df2[df2['DEST']=='SFO'] #arrivals to SFO\n",
    "len(df2)"
   ]
  },
  {
   "cell_type": "code",
   "execution_count": 21,
   "metadata": {},
   "outputs": [
    {
     "data": {
      "text/plain": [
       "13616"
      ]
     },
     "execution_count": 21,
     "metadata": {},
     "output_type": "execute_result"
    }
   ],
   "source": [
    "df2=df2[df2['ARR_DELAY'].notnull()] # removing null values rows(includes cancelled and diverted flights)\n",
    "len(df2)"
   ]
  },
  {
   "cell_type": "markdown",
   "metadata": {},
   "source": [
    "422 flights diverted or cancelled"
   ]
  },
  {
   "cell_type": "code",
   "execution_count": 22,
   "metadata": {},
   "outputs": [],
   "source": [
    "df2['JOURNEY_DELAY']=df2['ACTUAL_ELAPSED_TIME']-df2['CRS_ELAPSED_TIME']"
   ]
  },
  {
   "cell_type": "code",
   "execution_count": 34,
   "metadata": {},
   "outputs": [],
   "source": [
    "df2.to_csv(r'E:\\Project- Flight Delay\\Nov 2019\\Dec Complete SFO.csv')"
   ]
  },
  {
   "cell_type": "markdown",
   "metadata": {},
   "source": [
    "### November 2019"
   ]
  },
  {
   "cell_type": "code",
   "execution_count": 27,
   "metadata": {},
   "outputs": [
    {
     "data": {
      "text/plain": [
       "602453"
      ]
     },
     "execution_count": 27,
     "metadata": {},
     "output_type": "execute_result"
    }
   ],
   "source": [
    "df3=pd.read_csv(r\"E:\\Project- Flight Delay\\Nov 2019\\Complete Nov Raw.csv\")\n",
    "len(df3)"
   ]
  },
  {
   "cell_type": "code",
   "execution_count": 28,
   "metadata": {},
   "outputs": [
    {
     "data": {
      "text/plain": [
       "13538"
      ]
     },
     "execution_count": 28,
     "metadata": {},
     "output_type": "execute_result"
    }
   ],
   "source": [
    "df3=df3[df3['DEST']=='SFO'] #arrivals to SFO\n",
    "len(df3)"
   ]
  },
  {
   "cell_type": "code",
   "execution_count": 29,
   "metadata": {},
   "outputs": [
    {
     "data": {
      "text/plain": [
       "13352"
      ]
     },
     "execution_count": 29,
     "metadata": {},
     "output_type": "execute_result"
    }
   ],
   "source": [
    "df3=df3[df3['ARR_DELAY'].notnull()] # removing null values rows(includes cancelled and diverted flights)\n",
    "len(df3)"
   ]
  },
  {
   "cell_type": "markdown",
   "metadata": {},
   "source": [
    "185 flights"
   ]
  },
  {
   "cell_type": "code",
   "execution_count": 30,
   "metadata": {},
   "outputs": [],
   "source": [
    "df3['JOURNEY_DELAY']=df3['ACTUAL_ELAPSED_TIME']-df3['CRS_ELAPSED_TIME']"
   ]
  },
  {
   "cell_type": "code",
   "execution_count": 32,
   "metadata": {},
   "outputs": [],
   "source": [
    "df3.to_csv(r'E:\\Project- Flight Delay\\Nov 2019\\Complete SFO Nov.csv')"
   ]
  },
  {
   "cell_type": "markdown",
   "metadata": {},
   "source": [
    "### Concatenate the months data"
   ]
  },
  {
   "cell_type": "code",
   "execution_count": 47,
   "metadata": {},
   "outputs": [],
   "source": [
    "frames=[df3,df2,df1]"
   ]
  },
  {
   "cell_type": "code",
   "execution_count": 48,
   "metadata": {},
   "outputs": [
    {
     "data": {
      "text/plain": [
       "40452"
      ]
     },
     "execution_count": 48,
     "metadata": {},
     "output_type": "execute_result"
    }
   ],
   "source": [
    "final=pd.concat(frames)\n",
    "len(df)"
   ]
  },
  {
   "cell_type": "code",
   "execution_count": 50,
   "metadata": {},
   "outputs": [],
   "source": [
    "df.to_csv(r'E:\\Project- Flight Delay\\3 months Data\\Raw.csv')"
   ]
  },
  {
   "cell_type": "markdown",
   "metadata": {},
   "source": [
    "#### Convert variables into minutes to make it numeric and continous from 0 to 1440"
   ]
  },
  {
   "cell_type": "code",
   "execution_count": 3,
   "metadata": {},
   "outputs": [],
   "source": [
    "df=pd.read_csv(r'./Raw.csv')"
   ]
  },
  {
   "cell_type": "code",
   "execution_count": 4,
   "metadata": {},
   "outputs": [
    {
     "data": {
      "text/html": [
       "<div>\n",
       "<style scoped>\n",
       "    .dataframe tbody tr th:only-of-type {\n",
       "        vertical-align: middle;\n",
       "    }\n",
       "\n",
       "    .dataframe tbody tr th {\n",
       "        vertical-align: top;\n",
       "    }\n",
       "\n",
       "    .dataframe thead th {\n",
       "        text-align: right;\n",
       "    }\n",
       "</style>\n",
       "<table border=\"1\" class=\"dataframe\">\n",
       "  <thead>\n",
       "    <tr style=\"text-align: right;\">\n",
       "      <th></th>\n",
       "      <th>Unnamed: 0</th>\n",
       "      <th>YEAR</th>\n",
       "      <th>MONTH</th>\n",
       "      <th>DAY_OF_MONTH</th>\n",
       "      <th>DAY_OF_WEEK</th>\n",
       "      <th>OP_UNIQUE_CARRIER</th>\n",
       "      <th>TAIL_NUM</th>\n",
       "      <th>ORIGIN</th>\n",
       "      <th>DEST</th>\n",
       "      <th>CRS_DEP_TIME</th>\n",
       "      <th>...</th>\n",
       "      <th>ACTUAL_ELAPSED_TIME</th>\n",
       "      <th>AIR_TIME</th>\n",
       "      <th>DISTANCE</th>\n",
       "      <th>CARRIER_DELAY</th>\n",
       "      <th>WEATHER_DELAY</th>\n",
       "      <th>NAS_DELAY</th>\n",
       "      <th>SECURITY_DELAY</th>\n",
       "      <th>LATE_AIRCRAFT_DELAY</th>\n",
       "      <th>Unnamed: 29</th>\n",
       "      <th>Unnamed: 27</th>\n",
       "    </tr>\n",
       "  </thead>\n",
       "  <tbody>\n",
       "    <tr>\n",
       "      <th>0</th>\n",
       "      <td>11125</td>\n",
       "      <td>2019</td>\n",
       "      <td>11</td>\n",
       "      <td>23</td>\n",
       "      <td>6</td>\n",
       "      <td>OO</td>\n",
       "      <td>N267SY</td>\n",
       "      <td>JFK</td>\n",
       "      <td>BNA</td>\n",
       "      <td>840</td>\n",
       "      <td>...</td>\n",
       "      <td>147.0</td>\n",
       "      <td>126.0</td>\n",
       "      <td>765.0</td>\n",
       "      <td>NaN</td>\n",
       "      <td>NaN</td>\n",
       "      <td>NaN</td>\n",
       "      <td>NaN</td>\n",
       "      <td>NaN</td>\n",
       "      <td>NaN</td>\n",
       "      <td>NaN</td>\n",
       "    </tr>\n",
       "    <tr>\n",
       "      <th>1</th>\n",
       "      <td>11194</td>\n",
       "      <td>2019</td>\n",
       "      <td>11</td>\n",
       "      <td>23</td>\n",
       "      <td>6</td>\n",
       "      <td>OO</td>\n",
       "      <td>N291SY</td>\n",
       "      <td>JFK</td>\n",
       "      <td>RIC</td>\n",
       "      <td>1930</td>\n",
       "      <td>...</td>\n",
       "      <td>116.0</td>\n",
       "      <td>73.0</td>\n",
       "      <td>288.0</td>\n",
       "      <td>NaN</td>\n",
       "      <td>NaN</td>\n",
       "      <td>NaN</td>\n",
       "      <td>NaN</td>\n",
       "      <td>NaN</td>\n",
       "      <td>NaN</td>\n",
       "      <td>NaN</td>\n",
       "    </tr>\n",
       "  </tbody>\n",
       "</table>\n",
       "<p>2 rows × 32 columns</p>\n",
       "</div>"
      ],
      "text/plain": [
       "   Unnamed: 0  YEAR  MONTH  DAY_OF_MONTH  DAY_OF_WEEK OP_UNIQUE_CARRIER  \\\n",
       "0       11125  2019     11            23            6                OO   \n",
       "1       11194  2019     11            23            6                OO   \n",
       "\n",
       "  TAIL_NUM ORIGIN DEST  CRS_DEP_TIME  ...  ACTUAL_ELAPSED_TIME  AIR_TIME  \\\n",
       "0   N267SY    JFK  BNA           840  ...                147.0     126.0   \n",
       "1   N291SY    JFK  RIC          1930  ...                116.0      73.0   \n",
       "\n",
       "   DISTANCE  CARRIER_DELAY  WEATHER_DELAY  NAS_DELAY  SECURITY_DELAY  \\\n",
       "0     765.0            NaN            NaN        NaN             NaN   \n",
       "1     288.0            NaN            NaN        NaN             NaN   \n",
       "\n",
       "   LATE_AIRCRAFT_DELAY  Unnamed: 29  Unnamed: 27  \n",
       "0                  NaN          NaN          NaN  \n",
       "1                  NaN          NaN          NaN  \n",
       "\n",
       "[2 rows x 32 columns]"
      ]
     },
     "execution_count": 4,
     "metadata": {},
     "output_type": "execute_result"
    }
   ],
   "source": [
    "df.head(2)"
   ]
  },
  {
   "cell_type": "code",
   "execution_count": 5,
   "metadata": {},
   "outputs": [],
   "source": [
    "def last2digits(num):\n",
    "    return num%100;\n",
    "def remdigits(num):\n",
    "    num=num-last2digits(num)\n",
    "    return num/100;\n",
    "def HrstoMins(num):\n",
    "    return remdigits(num)*60+last2digits(num);\n",
    "def varInMins(arr):\n",
    "    temp=HrstoMins(arr)\n",
    "    List.append(temp)"
   ]
  },
  {
   "cell_type": "code",
   "execution_count": 6,
   "metadata": {},
   "outputs": [],
   "source": [
    "wheelsOn=np.array(df['WHEELS_ON'])\n",
    "crsdep=np.array(df['CRS_DEP_TIME'])\n",
    "wheelsOff=np.array(df['WHEELS_OFF'])\n",
    "depTime=np.array(df['DEP_TIME'])\n",
    "crsArrival=np.array(df['CRS_ARR_TIME'])\n",
    "arrTime=np.array(df['ARR_TIME'])"
   ]
  },
  {
   "cell_type": "code",
   "execution_count": 7,
   "metadata": {},
   "outputs": [
    {
     "name": "stderr",
     "output_type": "stream",
     "text": [
      "/home/deepank/.local/lib/python3.7/site-packages/numpy/lib/function_base.py:2167: RuntimeWarning: invalid value encountered in ? (vectorized)\n",
      "  outputs = ufunc(*inputs)\n"
     ]
    }
   ],
   "source": [
    "List=[]\n",
    "np.vectorize(varInMins, otypes=[float])(wheelsOn)\n",
    "df['WHEELS_ON_M']=List\n",
    "List=[]\n",
    "np.vectorize(varInMins, otypes=[float])(crsdep)\n",
    "df['CRS_DEP_M']=List\n",
    "List=[]\n",
    "np.vectorize(varInMins, otypes=[float])(wheelsOff)\n",
    "df['WHEELS_OFF_M']=List\n",
    "List=[]\n",
    "np.vectorize(varInMins, otypes=[float])(depTime)\n",
    "df['DEP_TIME_M']=List\n",
    "List=[]\n",
    "np.vectorize(varInMins, otypes=[float])(crsArrival)\n",
    "df['CRS_ARR_M']=List\n",
    "List=[]\n",
    "np.vectorize(varInMins, otypes=[float])(arrTime)\n",
    "df['ARR_TIME_M']=List"
   ]
  },
  {
   "cell_type": "markdown",
   "metadata": {},
   "source": [
    "**Day of month is corrosponding to scheduled deparuture which accounts for origin airport. To explain the day of flight arrival at destinantion airport, we convert day of month based on scheduled arrival.**"
   ]
  },
  {
   "cell_type": "code",
   "execution_count": 8,
   "metadata": {},
   "outputs": [],
   "source": [
    "df=pd.read_csv(r'./m1.csv')"
   ]
  },
  {
   "cell_type": "code",
   "execution_count": 9,
   "metadata": {},
   "outputs": [
    {
     "data": {
      "text/html": [
       "<div>\n",
       "<style scoped>\n",
       "    .dataframe tbody tr th:only-of-type {\n",
       "        vertical-align: middle;\n",
       "    }\n",
       "\n",
       "    .dataframe tbody tr th {\n",
       "        vertical-align: top;\n",
       "    }\n",
       "\n",
       "    .dataframe thead th {\n",
       "        text-align: right;\n",
       "    }\n",
       "</style>\n",
       "<table border=\"1\" class=\"dataframe\">\n",
       "  <thead>\n",
       "    <tr style=\"text-align: right;\">\n",
       "      <th></th>\n",
       "      <th>Unnamed: 0</th>\n",
       "      <th>MONTH</th>\n",
       "      <th>DAY_OF_MONTH</th>\n",
       "      <th>DAY_OF_WEEK</th>\n",
       "      <th>OP_UNIQUE_CARRIER</th>\n",
       "      <th>DEST</th>\n",
       "      <th>DEP_DELAY</th>\n",
       "      <th>CRS_ELAPSED_TIME</th>\n",
       "      <th>DISTANCE</th>\n",
       "      <th>CRS_DEP_M</th>\n",
       "      <th>...</th>\n",
       "      <th>Wind Gust</th>\n",
       "      <th>Pressure</th>\n",
       "      <th>Condition</th>\n",
       "      <th>Before_Departures</th>\n",
       "      <th>After_Departures</th>\n",
       "      <th>Before_Arrivals</th>\n",
       "      <th>After_Arrivals</th>\n",
       "      <th>TAXI_OUT</th>\n",
       "      <th>WHEELS_OFF_M</th>\n",
       "      <th>Pred_Wheels_On</th>\n",
       "    </tr>\n",
       "  </thead>\n",
       "  <tbody>\n",
       "    <tr>\n",
       "      <th>0</th>\n",
       "      <td>13</td>\n",
       "      <td>11</td>\n",
       "      <td>1</td>\n",
       "      <td>5</td>\n",
       "      <td>3</td>\n",
       "      <td>56</td>\n",
       "      <td>-3</td>\n",
       "      <td>388</td>\n",
       "      <td>2586</td>\n",
       "      <td>410</td>\n",
       "      <td>...</td>\n",
       "      <td>35</td>\n",
       "      <td>29.91</td>\n",
       "      <td>4</td>\n",
       "      <td>2</td>\n",
       "      <td>15</td>\n",
       "      <td>0</td>\n",
       "      <td>4</td>\n",
       "      <td>16.989875</td>\n",
       "      <td>424.0</td>\n",
       "      <td>607</td>\n",
       "    </tr>\n",
       "    <tr>\n",
       "      <th>1</th>\n",
       "      <td>15</td>\n",
       "      <td>11</td>\n",
       "      <td>1</td>\n",
       "      <td>5</td>\n",
       "      <td>4</td>\n",
       "      <td>56</td>\n",
       "      <td>-6</td>\n",
       "      <td>391</td>\n",
       "      <td>2586</td>\n",
       "      <td>420</td>\n",
       "      <td>...</td>\n",
       "      <td>29</td>\n",
       "      <td>30.00</td>\n",
       "      <td>4</td>\n",
       "      <td>4</td>\n",
       "      <td>14</td>\n",
       "      <td>2</td>\n",
       "      <td>5</td>\n",
       "      <td>19.192142</td>\n",
       "      <td>433.0</td>\n",
       "      <td>617</td>\n",
       "    </tr>\n",
       "  </tbody>\n",
       "</table>\n",
       "<p>2 rows × 27 columns</p>\n",
       "</div>"
      ],
      "text/plain": [
       "   Unnamed: 0  MONTH  DAY_OF_MONTH  DAY_OF_WEEK  OP_UNIQUE_CARRIER  DEST  \\\n",
       "0          13     11             1            5                  3    56   \n",
       "1          15     11             1            5                  4    56   \n",
       "\n",
       "   DEP_DELAY  CRS_ELAPSED_TIME  DISTANCE  CRS_DEP_M  ...  Wind Gust  Pressure  \\\n",
       "0         -3               388      2586        410  ...         35     29.91   \n",
       "1         -6               391      2586        420  ...         29     30.00   \n",
       "\n",
       "   Condition  Before_Departures  After_Departures  Before_Arrivals  \\\n",
       "0          4                  2                15                0   \n",
       "1          4                  4                14                2   \n",
       "\n",
       "   After_Arrivals   TAXI_OUT  WHEELS_OFF_M  Pred_Wheels_On  \n",
       "0               4  16.989875         424.0             607  \n",
       "1               5  19.192142         433.0             617  \n",
       "\n",
       "[2 rows x 27 columns]"
      ]
     },
     "execution_count": 9,
     "metadata": {},
     "output_type": "execute_result"
    }
   ],
   "source": [
    "df.head(2)"
   ]
  },
  {
   "cell_type": "markdown",
   "metadata": {},
   "source": [
    "# Start from Here\n",
    "\n",
    "First evaluate M1 model by creating M1 dataset corrosponding to departure time\n",
    "### Following is the data creation for M2 model"
   ]
  },
  {
   "cell_type": "code",
   "execution_count": 10,
   "metadata": {},
   "outputs": [],
   "source": [
    "depTime=np.array(df['CRS_DEP_M'])\n",
    "arrTime=np.array(df['CRS_ARR_M'])\n",
    "day=np.array(df['DAY_OF_MONTH'])\n",
    "week=np.array(df['DAY_OF_WEEK'])\n",
    "month=np.array(df['MONTH'])"
   ]
  },
  {
   "cell_type": "code",
   "execution_count": 11,
   "metadata": {},
   "outputs": [],
   "source": [
    "def arrivalDay(depTime,arrTime,day,week,month):\n",
    "    if(depTime>arrTime):\n",
    "        if(month==11 and day!=30):\n",
    "            day=day+1\n",
    "        elif(month==11 and day==30):\n",
    "            day=1\n",
    "            month=12\n",
    "        elif(month==12 and day!=31):\n",
    "            day=day+1\n",
    "        elif(month==12 and day==31):\n",
    "            day=1\n",
    "            month=1\n",
    "        elif(month==1 and day!=31):\n",
    "            day=day+1\n",
    "        elif(month==1 and day==31): # These flights land on 1st feb thus doesnt lie in current dataset\n",
    "            day=1\n",
    "            month=2\n",
    "        if(week==7):\n",
    "            week=1\n",
    "        else:\n",
    "            week=week+1\n",
    "    arrivalDay_list.append(day)\n",
    "    month_list.append(month)\n",
    "    week_list.append(week)\n",
    "    return;"
   ]
  },
  {
   "cell_type": "code",
   "execution_count": 12,
   "metadata": {},
   "outputs": [],
   "source": [
    "arrivalDay_list=[]\n",
    "month_list=[]\n",
    "week_list=[]\n",
    "arrival_day=np.vectorize(arrivalDay,otypes=[float])(depTime,arrTime,day,week,month)\n",
    "df['DAY_OF_MONTH']=arrivalDay_list\n",
    "df['MONTH']=month_list\n",
    "df['DAY_OF_WEEK']=week_list"
   ]
  },
  {
   "cell_type": "markdown",
   "metadata": {},
   "source": [
    "**Calculate Predicted wheels on time and its corrosponding day of landing at destination airport.**"
   ]
  },
  {
   "cell_type": "markdown",
   "metadata": {},
   "source": [
    "\n",
    "**sch_Arrival + Dep_delay - Avg_Taxi_in = Estimated_wheels_on**   \n",
    "   Predicted wheels on bhi day aur month change ho skta h\n",
    "Avg Taxi-in time=8 min"
   ]
  },
  {
   "cell_type": "code",
   "execution_count": 13,
   "metadata": {},
   "outputs": [],
   "source": [
    "l=list(range(0,len(df)))"
   ]
  },
  {
   "cell_type": "code",
   "execution_count": 19,
   "metadata": {},
   "outputs": [],
   "source": [
    "df2=pd.read_csv(r\"./Arrival Delay.csv\")"
   ]
  },
  {
   "cell_type": "code",
   "execution_count": 14,
   "metadata": {},
   "outputs": [],
   "source": [
    "def PredWheels(i):\n",
    "    x=df['CRS_ARR_M'].iloc[i]+df['DEP_DELAY'].iloc[i]-8\n",
    "    day=df['DAY_OF_MONTH'].iloc[i]\n",
    "    month=df['MONTH'].iloc[i]\n",
    "    if(x<0):\n",
    "        Pred_wheels.append(x+1440)\n",
    "        if(day==1 and month==12):\n",
    "            day=30\n",
    "            month=11\n",
    "        elif(day==1 and month==1):\n",
    "            day=31\n",
    "            month=12\n",
    "        else:\n",
    "            day=day-1\n",
    "        w_day.append(day)\n",
    "        w_month.append(month)\n",
    "    elif(x>1440):\n",
    "        Pred_wheels.append(x-1440)\n",
    "        if(day==30 and month==11):\n",
    "            day=1\n",
    "            month=12\n",
    "        elif(day==31 and month==12):\n",
    "            day=1\n",
    "            month=1\n",
    "        elif(day==31 and month==1):\n",
    "            day=1\n",
    "            month=2\n",
    "        else:\n",
    "            day=day+1\n",
    "        w_day.append(day)\n",
    "        w_month.append(month)\n",
    "    else:\n",
    "        Pred_wheels.append(x)\n",
    "        w_day.append(day)\n",
    "        w_month.append(month)\n",
    "    return;"
   ]
  },
  {
   "cell_type": "code",
   "execution_count": 15,
   "metadata": {},
   "outputs": [],
   "source": [
    "Pred_wheels=[]\n",
    "w_day=[]\n",
    "w_month=[]\n",
    "t=np.vectorize(PredWheels,otypes=[float])(l)\n",
    "df['Pred_Wheels_On']=Pred_wheels\n",
    "df['Weather_Day']=w_day\n",
    "df['Weather_Month']=w_month"
   ]
  },
  {
   "cell_type": "markdown",
   "metadata": {},
   "source": [
    "df1 is test data which needs to be created  \n",
    "df2 is reference data (arrival data)"
   ]
  },
  {
   "cell_type": "code",
   "execution_count": 16,
   "metadata": {},
   "outputs": [],
   "source": [
    "def create(i):\n",
    "    x=i\n",
    "    global df2,t\n",
    "    b=list(range(0,len(df2)))\n",
    "    n=np.vectorize(check,otypes=[float])(b,x)\n",
    "    df1.iloc[i,13:25]=df2.iloc[t,13:26]\n",
    "    arr_delay.append(df2.iloc[t,-1])\n",
    "    t=0\n",
    "    return;"
   ]
  },
  {
   "cell_type": "code",
   "execution_count": 17,
   "metadata": {},
   "outputs": [],
   "source": [
    "## Use pred_wheels_on, weather_day, weather_month to check the below condition\n",
    "def check(j,x):\n",
    "    global t\n",
    "    if (abs(df2.iloc[j,13]==df1.iloc[x,-3]) and (df2.iloc[j,0]==df1.iloc[x,-1]) and (df2.iloc[j,1]==df1.iloc[x,-2])):\n",
    "            t=j\n",
    "            return;\n",
    "    return;"
   ]
  },
  {
   "cell_type": "code",
   "execution_count": 21,
   "metadata": {},
   "outputs": [
    {
     "ename": "KeyboardInterrupt",
     "evalue": "",
     "output_type": "error",
     "traceback": [
      "\u001b[0;31m---------------------------------------------------------------------------\u001b[0m",
      "\u001b[0;31mKeyboardInterrupt\u001b[0m                         Traceback (most recent call last)",
      "\u001b[0;32m<ipython-input-21-3c6b13d89fc6>\u001b[0m in \u001b[0;36m<module>\u001b[0;34m\u001b[0m\n\u001b[1;32m      2\u001b[0m \u001b[0ma\u001b[0m\u001b[0;34m=\u001b[0m\u001b[0mlist\u001b[0m\u001b[0;34m(\u001b[0m\u001b[0mrange\u001b[0m\u001b[0;34m(\u001b[0m\u001b[0;36m0\u001b[0m\u001b[0;34m,\u001b[0m\u001b[0mlen\u001b[0m\u001b[0;34m(\u001b[0m\u001b[0mdf1\u001b[0m\u001b[0;34m)\u001b[0m\u001b[0;34m)\u001b[0m\u001b[0;34m)\u001b[0m\u001b[0;34m\u001b[0m\u001b[0;34m\u001b[0m\u001b[0m\n\u001b[1;32m      3\u001b[0m \u001b[0marr_delay\u001b[0m\u001b[0;34m=\u001b[0m\u001b[0;34m[\u001b[0m\u001b[0;34m]\u001b[0m\u001b[0;34m\u001b[0m\u001b[0;34m\u001b[0m\u001b[0m\n\u001b[0;32m----> 4\u001b[0;31m \u001b[0mm\u001b[0m\u001b[0;34m=\u001b[0m\u001b[0mnp\u001b[0m\u001b[0;34m.\u001b[0m\u001b[0mvectorize\u001b[0m\u001b[0;34m(\u001b[0m\u001b[0mcreate\u001b[0m\u001b[0;34m,\u001b[0m\u001b[0motypes\u001b[0m\u001b[0;34m=\u001b[0m\u001b[0;34m[\u001b[0m\u001b[0mfloat\u001b[0m\u001b[0;34m]\u001b[0m\u001b[0;34m)\u001b[0m\u001b[0;34m(\u001b[0m\u001b[0ma\u001b[0m\u001b[0;34m)\u001b[0m\u001b[0;34m\u001b[0m\u001b[0;34m\u001b[0m\u001b[0m\n\u001b[0m",
      "\u001b[0;32m~/.local/lib/python3.7/site-packages/numpy/lib/function_base.py\u001b[0m in \u001b[0;36m__call__\u001b[0;34m(self, *args, **kwargs)\u001b[0m\n\u001b[1;32m   2089\u001b[0m             \u001b[0mvargs\u001b[0m\u001b[0;34m.\u001b[0m\u001b[0mextend\u001b[0m\u001b[0;34m(\u001b[0m\u001b[0;34m[\u001b[0m\u001b[0mkwargs\u001b[0m\u001b[0;34m[\u001b[0m\u001b[0m_n\u001b[0m\u001b[0;34m]\u001b[0m \u001b[0;32mfor\u001b[0m \u001b[0m_n\u001b[0m \u001b[0;32min\u001b[0m \u001b[0mnames\u001b[0m\u001b[0;34m]\u001b[0m\u001b[0;34m)\u001b[0m\u001b[0;34m\u001b[0m\u001b[0;34m\u001b[0m\u001b[0m\n\u001b[1;32m   2090\u001b[0m \u001b[0;34m\u001b[0m\u001b[0m\n\u001b[0;32m-> 2091\u001b[0;31m         \u001b[0;32mreturn\u001b[0m \u001b[0mself\u001b[0m\u001b[0;34m.\u001b[0m\u001b[0m_vectorize_call\u001b[0m\u001b[0;34m(\u001b[0m\u001b[0mfunc\u001b[0m\u001b[0;34m=\u001b[0m\u001b[0mfunc\u001b[0m\u001b[0;34m,\u001b[0m \u001b[0margs\u001b[0m\u001b[0;34m=\u001b[0m\u001b[0mvargs\u001b[0m\u001b[0;34m)\u001b[0m\u001b[0;34m\u001b[0m\u001b[0;34m\u001b[0m\u001b[0m\n\u001b[0m\u001b[1;32m   2092\u001b[0m \u001b[0;34m\u001b[0m\u001b[0m\n\u001b[1;32m   2093\u001b[0m     \u001b[0;32mdef\u001b[0m \u001b[0m_get_ufunc_and_otypes\u001b[0m\u001b[0;34m(\u001b[0m\u001b[0mself\u001b[0m\u001b[0;34m,\u001b[0m \u001b[0mfunc\u001b[0m\u001b[0;34m,\u001b[0m \u001b[0margs\u001b[0m\u001b[0;34m)\u001b[0m\u001b[0;34m:\u001b[0m\u001b[0;34m\u001b[0m\u001b[0;34m\u001b[0m\u001b[0m\n",
      "\u001b[0;32m~/.local/lib/python3.7/site-packages/numpy/lib/function_base.py\u001b[0m in \u001b[0;36m_vectorize_call\u001b[0;34m(self, func, args)\u001b[0m\n\u001b[1;32m   2165\u001b[0m                       for a in args]\n\u001b[1;32m   2166\u001b[0m \u001b[0;34m\u001b[0m\u001b[0m\n\u001b[0;32m-> 2167\u001b[0;31m             \u001b[0moutputs\u001b[0m \u001b[0;34m=\u001b[0m \u001b[0mufunc\u001b[0m\u001b[0;34m(\u001b[0m\u001b[0;34m*\u001b[0m\u001b[0minputs\u001b[0m\u001b[0;34m)\u001b[0m\u001b[0;34m\u001b[0m\u001b[0;34m\u001b[0m\u001b[0m\n\u001b[0m\u001b[1;32m   2168\u001b[0m \u001b[0;34m\u001b[0m\u001b[0m\n\u001b[1;32m   2169\u001b[0m             \u001b[0;32mif\u001b[0m \u001b[0mufunc\u001b[0m\u001b[0;34m.\u001b[0m\u001b[0mnout\u001b[0m \u001b[0;34m==\u001b[0m \u001b[0;36m1\u001b[0m\u001b[0;34m:\u001b[0m\u001b[0;34m\u001b[0m\u001b[0;34m\u001b[0m\u001b[0m\n",
      "\u001b[0;32m<ipython-input-16-c1deaa07803f>\u001b[0m in \u001b[0;36mcreate\u001b[0;34m(i)\u001b[0m\n\u001b[1;32m      3\u001b[0m     \u001b[0;32mglobal\u001b[0m \u001b[0mdf2\u001b[0m\u001b[0;34m,\u001b[0m\u001b[0mt\u001b[0m\u001b[0;34m\u001b[0m\u001b[0;34m\u001b[0m\u001b[0m\n\u001b[1;32m      4\u001b[0m     \u001b[0mb\u001b[0m\u001b[0;34m=\u001b[0m\u001b[0mlist\u001b[0m\u001b[0;34m(\u001b[0m\u001b[0mrange\u001b[0m\u001b[0;34m(\u001b[0m\u001b[0;36m0\u001b[0m\u001b[0;34m,\u001b[0m\u001b[0mlen\u001b[0m\u001b[0;34m(\u001b[0m\u001b[0mdf2\u001b[0m\u001b[0;34m)\u001b[0m\u001b[0;34m)\u001b[0m\u001b[0;34m)\u001b[0m\u001b[0;34m\u001b[0m\u001b[0;34m\u001b[0m\u001b[0m\n\u001b[0;32m----> 5\u001b[0;31m     \u001b[0mn\u001b[0m\u001b[0;34m=\u001b[0m\u001b[0mnp\u001b[0m\u001b[0;34m.\u001b[0m\u001b[0mvectorize\u001b[0m\u001b[0;34m(\u001b[0m\u001b[0mcheck\u001b[0m\u001b[0;34m,\u001b[0m\u001b[0motypes\u001b[0m\u001b[0;34m=\u001b[0m\u001b[0;34m[\u001b[0m\u001b[0mfloat\u001b[0m\u001b[0;34m]\u001b[0m\u001b[0;34m)\u001b[0m\u001b[0;34m(\u001b[0m\u001b[0mb\u001b[0m\u001b[0;34m,\u001b[0m\u001b[0mx\u001b[0m\u001b[0;34m)\u001b[0m\u001b[0;34m\u001b[0m\u001b[0;34m\u001b[0m\u001b[0m\n\u001b[0m\u001b[1;32m      6\u001b[0m     \u001b[0mdf1\u001b[0m\u001b[0;34m.\u001b[0m\u001b[0miloc\u001b[0m\u001b[0;34m[\u001b[0m\u001b[0mi\u001b[0m\u001b[0;34m,\u001b[0m\u001b[0;36m13\u001b[0m\u001b[0;34m:\u001b[0m\u001b[0;36m25\u001b[0m\u001b[0;34m]\u001b[0m\u001b[0;34m=\u001b[0m\u001b[0mdf2\u001b[0m\u001b[0;34m.\u001b[0m\u001b[0miloc\u001b[0m\u001b[0;34m[\u001b[0m\u001b[0mt\u001b[0m\u001b[0;34m,\u001b[0m\u001b[0;36m13\u001b[0m\u001b[0;34m:\u001b[0m\u001b[0;36m26\u001b[0m\u001b[0;34m]\u001b[0m\u001b[0;34m\u001b[0m\u001b[0;34m\u001b[0m\u001b[0m\n\u001b[1;32m      7\u001b[0m     \u001b[0marr_delay\u001b[0m\u001b[0;34m.\u001b[0m\u001b[0mappend\u001b[0m\u001b[0;34m(\u001b[0m\u001b[0mdf2\u001b[0m\u001b[0;34m.\u001b[0m\u001b[0miloc\u001b[0m\u001b[0;34m[\u001b[0m\u001b[0mt\u001b[0m\u001b[0;34m,\u001b[0m\u001b[0;34m-\u001b[0m\u001b[0;36m1\u001b[0m\u001b[0;34m]\u001b[0m\u001b[0;34m)\u001b[0m\u001b[0;34m\u001b[0m\u001b[0;34m\u001b[0m\u001b[0m\n",
      "\u001b[0;32m~/.local/lib/python3.7/site-packages/numpy/lib/function_base.py\u001b[0m in \u001b[0;36m__call__\u001b[0;34m(self, *args, **kwargs)\u001b[0m\n\u001b[1;32m   2089\u001b[0m             \u001b[0mvargs\u001b[0m\u001b[0;34m.\u001b[0m\u001b[0mextend\u001b[0m\u001b[0;34m(\u001b[0m\u001b[0;34m[\u001b[0m\u001b[0mkwargs\u001b[0m\u001b[0;34m[\u001b[0m\u001b[0m_n\u001b[0m\u001b[0;34m]\u001b[0m \u001b[0;32mfor\u001b[0m \u001b[0m_n\u001b[0m \u001b[0;32min\u001b[0m \u001b[0mnames\u001b[0m\u001b[0;34m]\u001b[0m\u001b[0;34m)\u001b[0m\u001b[0;34m\u001b[0m\u001b[0;34m\u001b[0m\u001b[0m\n\u001b[1;32m   2090\u001b[0m \u001b[0;34m\u001b[0m\u001b[0m\n\u001b[0;32m-> 2091\u001b[0;31m         \u001b[0;32mreturn\u001b[0m \u001b[0mself\u001b[0m\u001b[0;34m.\u001b[0m\u001b[0m_vectorize_call\u001b[0m\u001b[0;34m(\u001b[0m\u001b[0mfunc\u001b[0m\u001b[0;34m=\u001b[0m\u001b[0mfunc\u001b[0m\u001b[0;34m,\u001b[0m \u001b[0margs\u001b[0m\u001b[0;34m=\u001b[0m\u001b[0mvargs\u001b[0m\u001b[0;34m)\u001b[0m\u001b[0;34m\u001b[0m\u001b[0;34m\u001b[0m\u001b[0m\n\u001b[0m\u001b[1;32m   2092\u001b[0m \u001b[0;34m\u001b[0m\u001b[0m\n\u001b[1;32m   2093\u001b[0m     \u001b[0;32mdef\u001b[0m \u001b[0m_get_ufunc_and_otypes\u001b[0m\u001b[0;34m(\u001b[0m\u001b[0mself\u001b[0m\u001b[0;34m,\u001b[0m \u001b[0mfunc\u001b[0m\u001b[0;34m,\u001b[0m \u001b[0margs\u001b[0m\u001b[0;34m)\u001b[0m\u001b[0;34m:\u001b[0m\u001b[0;34m\u001b[0m\u001b[0;34m\u001b[0m\u001b[0m\n",
      "\u001b[0;32m~/.local/lib/python3.7/site-packages/numpy/lib/function_base.py\u001b[0m in \u001b[0;36m_vectorize_call\u001b[0;34m(self, func, args)\u001b[0m\n\u001b[1;32m   2165\u001b[0m                       for a in args]\n\u001b[1;32m   2166\u001b[0m \u001b[0;34m\u001b[0m\u001b[0m\n\u001b[0;32m-> 2167\u001b[0;31m             \u001b[0moutputs\u001b[0m \u001b[0;34m=\u001b[0m \u001b[0mufunc\u001b[0m\u001b[0;34m(\u001b[0m\u001b[0;34m*\u001b[0m\u001b[0minputs\u001b[0m\u001b[0;34m)\u001b[0m\u001b[0;34m\u001b[0m\u001b[0;34m\u001b[0m\u001b[0m\n\u001b[0m\u001b[1;32m   2168\u001b[0m \u001b[0;34m\u001b[0m\u001b[0m\n\u001b[1;32m   2169\u001b[0m             \u001b[0;32mif\u001b[0m \u001b[0mufunc\u001b[0m\u001b[0;34m.\u001b[0m\u001b[0mnout\u001b[0m \u001b[0;34m==\u001b[0m \u001b[0;36m1\u001b[0m\u001b[0;34m:\u001b[0m\u001b[0;34m\u001b[0m\u001b[0;34m\u001b[0m\u001b[0m\n",
      "\u001b[0;32m<ipython-input-17-c480d686df41>\u001b[0m in \u001b[0;36mcheck\u001b[0;34m(j, x)\u001b[0m\n\u001b[1;32m      2\u001b[0m \u001b[0;32mdef\u001b[0m \u001b[0mcheck\u001b[0m\u001b[0;34m(\u001b[0m\u001b[0mj\u001b[0m\u001b[0;34m,\u001b[0m\u001b[0mx\u001b[0m\u001b[0;34m)\u001b[0m\u001b[0;34m:\u001b[0m\u001b[0;34m\u001b[0m\u001b[0;34m\u001b[0m\u001b[0m\n\u001b[1;32m      3\u001b[0m     \u001b[0;32mglobal\u001b[0m \u001b[0mt\u001b[0m\u001b[0;34m\u001b[0m\u001b[0;34m\u001b[0m\u001b[0m\n\u001b[0;32m----> 4\u001b[0;31m     \u001b[0;32mif\u001b[0m \u001b[0;34m(\u001b[0m\u001b[0mabs\u001b[0m\u001b[0;34m(\u001b[0m\u001b[0mdf2\u001b[0m\u001b[0;34m.\u001b[0m\u001b[0miloc\u001b[0m\u001b[0;34m[\u001b[0m\u001b[0mj\u001b[0m\u001b[0;34m,\u001b[0m\u001b[0;36m13\u001b[0m\u001b[0;34m]\u001b[0m\u001b[0;34m==\u001b[0m\u001b[0mdf1\u001b[0m\u001b[0;34m.\u001b[0m\u001b[0miloc\u001b[0m\u001b[0;34m[\u001b[0m\u001b[0mx\u001b[0m\u001b[0;34m,\u001b[0m\u001b[0;34m-\u001b[0m\u001b[0;36m3\u001b[0m\u001b[0;34m]\u001b[0m\u001b[0;34m)\u001b[0m \u001b[0;32mand\u001b[0m \u001b[0;34m(\u001b[0m\u001b[0mdf2\u001b[0m\u001b[0;34m.\u001b[0m\u001b[0miloc\u001b[0m\u001b[0;34m[\u001b[0m\u001b[0mj\u001b[0m\u001b[0;34m,\u001b[0m\u001b[0;36m0\u001b[0m\u001b[0;34m]\u001b[0m\u001b[0;34m==\u001b[0m\u001b[0mdf1\u001b[0m\u001b[0;34m.\u001b[0m\u001b[0miloc\u001b[0m\u001b[0;34m[\u001b[0m\u001b[0mx\u001b[0m\u001b[0;34m,\u001b[0m\u001b[0;34m-\u001b[0m\u001b[0;36m1\u001b[0m\u001b[0;34m]\u001b[0m\u001b[0;34m)\u001b[0m \u001b[0;32mand\u001b[0m \u001b[0;34m(\u001b[0m\u001b[0mdf2\u001b[0m\u001b[0;34m.\u001b[0m\u001b[0miloc\u001b[0m\u001b[0;34m[\u001b[0m\u001b[0mj\u001b[0m\u001b[0;34m,\u001b[0m\u001b[0;36m1\u001b[0m\u001b[0;34m]\u001b[0m\u001b[0;34m==\u001b[0m\u001b[0mdf1\u001b[0m\u001b[0;34m.\u001b[0m\u001b[0miloc\u001b[0m\u001b[0;34m[\u001b[0m\u001b[0mx\u001b[0m\u001b[0;34m,\u001b[0m\u001b[0;34m-\u001b[0m\u001b[0;36m2\u001b[0m\u001b[0;34m]\u001b[0m\u001b[0;34m)\u001b[0m\u001b[0;34m)\u001b[0m\u001b[0;34m:\u001b[0m\u001b[0;34m\u001b[0m\u001b[0;34m\u001b[0m\u001b[0m\n\u001b[0m\u001b[1;32m      5\u001b[0m             \u001b[0mt\u001b[0m\u001b[0;34m=\u001b[0m\u001b[0mj\u001b[0m\u001b[0;34m\u001b[0m\u001b[0;34m\u001b[0m\u001b[0m\n\u001b[1;32m      6\u001b[0m             \u001b[0;32mreturn\u001b[0m\u001b[0;34m;\u001b[0m\u001b[0;34m\u001b[0m\u001b[0;34m\u001b[0m\u001b[0m\n",
      "\u001b[0;32m~/.local/lib/python3.7/site-packages/pandas/core/indexing.py\u001b[0m in \u001b[0;36m__getitem__\u001b[0;34m(self, key)\u001b[0m\n\u001b[1;32m   1757\u001b[0m             \u001b[0;32mif\u001b[0m \u001b[0mself\u001b[0m\u001b[0;34m.\u001b[0m\u001b[0m_is_scalar_access\u001b[0m\u001b[0;34m(\u001b[0m\u001b[0mkey\u001b[0m\u001b[0;34m)\u001b[0m\u001b[0;34m:\u001b[0m\u001b[0;34m\u001b[0m\u001b[0;34m\u001b[0m\u001b[0m\n\u001b[1;32m   1758\u001b[0m                 \u001b[0;32mtry\u001b[0m\u001b[0;34m:\u001b[0m\u001b[0;34m\u001b[0m\u001b[0;34m\u001b[0m\u001b[0m\n\u001b[0;32m-> 1759\u001b[0;31m                     \u001b[0;32mreturn\u001b[0m \u001b[0mself\u001b[0m\u001b[0;34m.\u001b[0m\u001b[0m_getitem_scalar\u001b[0m\u001b[0;34m(\u001b[0m\u001b[0mkey\u001b[0m\u001b[0;34m)\u001b[0m\u001b[0;34m\u001b[0m\u001b[0;34m\u001b[0m\u001b[0m\n\u001b[0m\u001b[1;32m   1760\u001b[0m                 \u001b[0;32mexcept\u001b[0m \u001b[0;34m(\u001b[0m\u001b[0mKeyError\u001b[0m\u001b[0;34m,\u001b[0m \u001b[0mIndexError\u001b[0m\u001b[0;34m,\u001b[0m \u001b[0mAttributeError\u001b[0m\u001b[0;34m)\u001b[0m\u001b[0;34m:\u001b[0m\u001b[0;34m\u001b[0m\u001b[0;34m\u001b[0m\u001b[0m\n\u001b[1;32m   1761\u001b[0m                     \u001b[0;32mpass\u001b[0m\u001b[0;34m\u001b[0m\u001b[0;34m\u001b[0m\u001b[0m\n",
      "\u001b[0;32m~/.local/lib/python3.7/site-packages/pandas/core/indexing.py\u001b[0m in \u001b[0;36m_getitem_scalar\u001b[0;34m(self, key)\u001b[0m\n\u001b[1;32m   2040\u001b[0m         \u001b[0;31m# a fast-path to scalar access\u001b[0m\u001b[0;34m\u001b[0m\u001b[0;34m\u001b[0m\u001b[0;34m\u001b[0m\u001b[0m\n\u001b[1;32m   2041\u001b[0m         \u001b[0;31m# if not, raise\u001b[0m\u001b[0;34m\u001b[0m\u001b[0;34m\u001b[0m\u001b[0;34m\u001b[0m\u001b[0m\n\u001b[0;32m-> 2042\u001b[0;31m         \u001b[0mvalues\u001b[0m \u001b[0;34m=\u001b[0m \u001b[0mself\u001b[0m\u001b[0;34m.\u001b[0m\u001b[0mobj\u001b[0m\u001b[0;34m.\u001b[0m\u001b[0m_get_value\u001b[0m\u001b[0;34m(\u001b[0m\u001b[0;34m*\u001b[0m\u001b[0mkey\u001b[0m\u001b[0;34m,\u001b[0m \u001b[0mtakeable\u001b[0m\u001b[0;34m=\u001b[0m\u001b[0;32mTrue\u001b[0m\u001b[0;34m)\u001b[0m\u001b[0;34m\u001b[0m\u001b[0;34m\u001b[0m\u001b[0m\n\u001b[0m\u001b[1;32m   2043\u001b[0m         \u001b[0;32mreturn\u001b[0m \u001b[0mvalues\u001b[0m\u001b[0;34m\u001b[0m\u001b[0;34m\u001b[0m\u001b[0m\n\u001b[1;32m   2044\u001b[0m \u001b[0;34m\u001b[0m\u001b[0m\n",
      "\u001b[0;32m~/.local/lib/python3.7/site-packages/pandas/core/frame.py\u001b[0m in \u001b[0;36m_get_value\u001b[0;34m(self, index, col, takeable)\u001b[0m\n\u001b[1;32m   2883\u001b[0m             \u001b[0;32mreturn\u001b[0m \u001b[0mself\u001b[0m\u001b[0;34m.\u001b[0m\u001b[0m_get_item_cache\u001b[0m\u001b[0;34m(\u001b[0m\u001b[0mkey\u001b[0m\u001b[0;34m)\u001b[0m\u001b[0;34m\u001b[0m\u001b[0;34m\u001b[0m\u001b[0m\n\u001b[1;32m   2884\u001b[0m \u001b[0;34m\u001b[0m\u001b[0m\n\u001b[0;32m-> 2885\u001b[0;31m     \u001b[0;32mdef\u001b[0m \u001b[0m_get_value\u001b[0m\u001b[0;34m(\u001b[0m\u001b[0mself\u001b[0m\u001b[0;34m,\u001b[0m \u001b[0mindex\u001b[0m\u001b[0;34m,\u001b[0m \u001b[0mcol\u001b[0m\u001b[0;34m,\u001b[0m \u001b[0mtakeable\u001b[0m\u001b[0;34m:\u001b[0m \u001b[0mbool\u001b[0m \u001b[0;34m=\u001b[0m \u001b[0;32mFalse\u001b[0m\u001b[0;34m)\u001b[0m\u001b[0;34m:\u001b[0m\u001b[0;34m\u001b[0m\u001b[0;34m\u001b[0m\u001b[0m\n\u001b[0m\u001b[1;32m   2886\u001b[0m         \"\"\"\n\u001b[1;32m   2887\u001b[0m         \u001b[0mQuickly\u001b[0m \u001b[0mretrieve\u001b[0m \u001b[0msingle\u001b[0m \u001b[0mvalue\u001b[0m \u001b[0mat\u001b[0m \u001b[0mpassed\u001b[0m \u001b[0mcolumn\u001b[0m \u001b[0;32mand\u001b[0m \u001b[0mindex\u001b[0m\u001b[0;34m.\u001b[0m\u001b[0;34m\u001b[0m\u001b[0;34m\u001b[0m\u001b[0m\n",
      "\u001b[0;31mKeyboardInterrupt\u001b[0m: "
     ]
    }
   ],
   "source": [
    "df1=df\n",
    "a=list(range(0,len(df1)))\n",
    "arr_delay=[]\n",
    "m=np.vectorize(create,otypes=[float])(a)"
   ]
  },
  {
   "cell_type": "code",
   "execution_count": 101,
   "metadata": {},
   "outputs": [],
   "source": [
    "from lightgbm import LGBMRegressor\n",
    "import lightgbm as lgb\n",
    "lgbm = LGBMRegressor()\n",
    "model2 = lgb.Booster(model_file=r'./model_light.txt')"
   ]
  },
  {
   "cell_type": "code",
   "execution_count": 95,
   "metadata": {},
   "outputs": [],
   "source": [
    "from sklearn.preprocessing import LabelEncoder\n",
    "lb_make = LabelEncoder()\n",
    "df1['Wind'] = lb_make.fit_transform(df1['Wind'])\n",
    "df1['Condition'] = lb_make.fit_transform(df1['Condition'])"
   ]
  },
  {
   "cell_type": "code",
   "execution_count": 102,
   "metadata": {},
   "outputs": [],
   "source": [
    "arr=model2.predict(df1)"
   ]
  },
  {
   "cell_type": "markdown",
   "metadata": {},
   "source": [
    "#### After calculating expected arrival delay calulate journey delay=arrival delay - dep delay\n",
    "update dep delay = dep delay + (journey delay/2)"
   ]
  },
  {
   "cell_type": "code",
   "execution_count": 115,
   "metadata": {},
   "outputs": [
    {
     "data": {
      "text/plain": [
       "8.932007177376056"
      ]
     },
     "execution_count": 115,
     "metadata": {},
     "output_type": "execute_result"
    }
   ],
   "source": [
    "mean_absolute_error(arr,arr_delay)"
   ]
  },
  {
   "cell_type": "code",
   "execution_count": 107,
   "metadata": {},
   "outputs": [],
   "source": [
    "from sklearn.metrics import mean_squared_error"
   ]
  },
  {
   "cell_type": "code",
   "execution_count": 109,
   "metadata": {},
   "outputs": [
    {
     "data": {
      "text/plain": [
       "19.71390153223803"
      ]
     },
     "execution_count": 109,
     "metadata": {},
     "output_type": "execute_result"
    }
   ],
   "source": [
    "mean_squared_error(arr,arr_delay,squared=False)"
   ]
  },
  {
   "cell_type": "code",
   "execution_count": 120,
   "metadata": {},
   "outputs": [
    {
     "ename": "NameError",
     "evalue": "name 'arr_delay' is not defined",
     "output_type": "error",
     "traceback": [
      "\u001b[0;31m---------------------------------------------------------------------------\u001b[0m",
      "\u001b[0;31mNameError\u001b[0m                                 Traceback (most recent call last)",
      "\u001b[0;32m<ipython-input-120-81beba6e1574>\u001b[0m in \u001b[0;36m<module>\u001b[0;34m\u001b[0m\n\u001b[1;32m      1\u001b[0m \u001b[0;32mfrom\u001b[0m \u001b[0msklearn\u001b[0m\u001b[0;34m.\u001b[0m\u001b[0mmetrics\u001b[0m \u001b[0;32mimport\u001b[0m \u001b[0mmedian_absolute_error\u001b[0m\u001b[0;34m\u001b[0m\u001b[0;34m\u001b[0m\u001b[0m\n\u001b[0;32m----> 2\u001b[0;31m \u001b[0mmedian_absolute_error\u001b[0m\u001b[0;34m(\u001b[0m\u001b[0marr\u001b[0m\u001b[0;34m,\u001b[0m\u001b[0marr_delay\u001b[0m\u001b[0;34m)\u001b[0m\u001b[0;34m\u001b[0m\u001b[0;34m\u001b[0m\u001b[0m\n\u001b[0m",
      "\u001b[0;31mNameError\u001b[0m: name 'arr_delay' is not defined"
     ]
    }
   ],
   "source": [
    "from sklearn.metrics import median_absolute_error\n",
    "median_absolute_error(arr,arr_delay)"
   ]
  },
  {
   "cell_type": "code",
   "execution_count": 3265,
   "metadata": {},
   "outputs": [],
   "source": [
    "df=pd.read_csv(r\"./Arrival Delay.csv\")\n",
    "dfx=df[df['ORIGIN']=='JFK']\n",
    "dfx=dfx[dfx['ARR_DELAY']==11]\n",
    "dfx=dfx[dfx['TAXI_OUT']==15]\n",
    "dfx=dfx[dfx['DEP_DELAY']==-11]"
   ]
  },
  {
   "cell_type": "code",
   "execution_count": 3266,
   "metadata": {},
   "outputs": [
    {
     "name": "stdout",
     "output_type": "stream",
     "text": [
      "[2]\n"
     ]
    }
   ],
   "source": [
    "from sklearn.preprocessing import LabelEncoder\n",
    "lb_make = LabelEncoder()\n",
    "xn=df\n",
    "xn['OP_UNIQUE_CARRIER'] = lb_make.fit_transform(xn['OP_UNIQUE_CARRIER'])\n",
    "print(lb_make.transform(['B6']))\n",
    "xn['ORIGIN'] = lb_make.fit_transform(xn['ORIGIN'])\n",
    "xn['Wind'] = lb_make.fit_transform(xn['Wind'])\n",
    "xn['Condition'] = lb_make.fit_transform(xn['Condition'])\n",
    "df=xn"
   ]
  },
  {
   "cell_type": "code",
   "execution_count": 3267,
   "metadata": {},
   "outputs": [
    {
     "data": {
      "text/plain": [
       "count     1.0\n",
       "mean     22.0\n",
       "std       NaN\n",
       "min      22.0\n",
       "25%      22.0\n",
       "50%      22.0\n",
       "75%      22.0\n",
       "max      22.0\n",
       "dtype: float64"
      ]
     },
     "execution_count": 3267,
     "metadata": {},
     "output_type": "execute_result"
    }
   ],
   "source": [
    "j_delay=dfx['ARR_DELAY']-dfx['DEP_DELAY']\n",
    "j_delay.describe()"
   ]
  },
  {
   "cell_type": "code",
   "execution_count": 3268,
   "metadata": {},
   "outputs": [
    {
     "data": {
      "text/plain": [
       "11629    22\n",
       "dtype: int64"
      ]
     },
     "execution_count": 3268,
     "metadata": {},
     "output_type": "execute_result"
    }
   ],
   "source": [
    "#11942  20\n",
    "#j_delay=j_delay[j_delay==16]\n",
    "j_delay"
   ]
  },
  {
   "cell_type": "code",
   "execution_count": 3270,
   "metadata": {},
   "outputs": [
    {
     "data": {
      "text/plain": [
       "MONTH                  11.00\n",
       "DAY_OF_MONTH           26.00\n",
       "DAY_OF_WEEK             2.00\n",
       "OP_UNIQUE_CARRIER       0.00\n",
       "ORIGIN                 33.00\n",
       "DEP_DELAY             -11.00\n",
       "TAXI_OUT               15.00\n",
       "CRS_ELAPSED_TIME      407.00\n",
       "DISTANCE             2586.00\n",
       "CRS_DEP_M             975.00\n",
       "DEP_TIME_M            964.00\n",
       "WHEELS_OFF_M          979.00\n",
       "CRS_ARR_M            1202.00\n",
       "Pred_Wheels_On       1183.00\n",
       "Temperature            52.00\n",
       "Dew Point              48.00\n",
       "Humidity               86.00\n",
       "Wind                   17.00\n",
       "Wind Speed             21.00\n",
       "Wind Gust              45.00\n",
       "Pressure               29.58\n",
       "Condition               9.00\n",
       "Before_Arrivals        11.00\n",
       "After_Arrivals         11.00\n",
       "Before_Departures       9.00\n",
       "After_Departures       16.00\n",
       "ARR_DELAY              11.00\n",
       "Name: 11629, dtype: float64"
      ]
     },
     "execution_count": 3270,
     "metadata": {},
     "output_type": "execute_result"
    }
   ],
   "source": [
    "#p=df.iloc[j_delay.index[0]]\n",
    "p=df.iloc[11629]\n",
    "p\n",
    "#33880"
   ]
  },
  {
   "cell_type": "code",
   "execution_count": 3271,
   "metadata": {},
   "outputs": [],
   "source": [
    "#Index(['month', 'day', 'week', 'airline', 'dest', 'dep_del', 'sch_elp', 'dist',\n",
    "#       'sch_dep', 'act_dep', 'sch_arr', 'temp', 'dew', 'hum', 'wind', 'w_spd',\n",
    "#       'gust', 'pres', 'cond', 'bef_dep1', 'aft_dep1', 'bef_arr1', 'aft_arr1']"
   ]
  },
  {
   "cell_type": "code",
   "execution_count": 3272,
   "metadata": {},
   "outputs": [],
   "source": [
    "point=p.drop(['ORIGIN','TAXI_OUT','WHEELS_OFF_M','Pred_Wheels_On'])\n",
    "point['DEST']=56\n",
    "point=point.reindex(['MONTH', 'DAY_OF_MONTH', 'DAY_OF_WEEK', 'OP_UNIQUE_CARRIER', 'DEST',\n",
    "       'DEP_DELAY', 'CRS_ELAPSED_TIME', 'DISTANCE', 'CRS_DEP_M', 'DEP_TIME_M',\n",
    "       'CRS_ARR_M', 'Temperature', 'Dew Point', 'Humidity', 'Wind',\n",
    "       'Wind Speed', 'Wind Gust', 'Pressure', 'Condition', 'Before_Departures',\n",
    "       'After_Departures', 'Before_Arrivals', 'After_Arrivals'],axis=1)"
   ]
  },
  {
   "cell_type": "code",
   "execution_count": 3273,
   "metadata": {},
   "outputs": [],
   "source": [
    "df2=pd.read_csv(r\"./Taxi Out Final.csv\")"
   ]
  },
  {
   "cell_type": "code",
   "execution_count": 3274,
   "metadata": {},
   "outputs": [
    {
     "name": "stdout",
     "output_type": "stream",
     "text": [
      "[3]\n"
     ]
    },
    {
     "data": {
      "text/plain": [
       "Index(['MONTH', 'DAY_OF_MONTH', 'DAY_OF_WEEK', 'OP_UNIQUE_CARRIER', 'DEST',\n",
       "       'DEP_DELAY', 'CRS_ELAPSED_TIME', 'DISTANCE', 'CRS_DEP_M', 'DEP_TIME_M',\n",
       "       'CRS_ARR_M', 'Temperature', 'Dew Point', 'Humidity', 'Wind',\n",
       "       'Wind Speed', 'Wind Gust', 'Pressure', 'Condition', 'Before_Departures',\n",
       "       'After_Departures', 'Before_Arrivals', 'After_Arrivals', 'TAXI_OUT'],\n",
       "      dtype='object')"
      ]
     },
     "execution_count": 3274,
     "metadata": {},
     "output_type": "execute_result"
    }
   ],
   "source": [
    "df2[\"Wind\"]=df2['Wind'].replace(np.nan,\"CALM\")\n",
    "from sklearn.preprocessing import LabelEncoder\n",
    "lb_make = LabelEncoder()\n",
    "xn=df2\n",
    "xn['OP_UNIQUE_CARRIER'] = lb_make.fit_transform(xn['OP_UNIQUE_CARRIER'])\n",
    "print(lb_make.transform(['B6']))\n",
    "xn['DEST'] = lb_make.fit_transform(xn['DEST'])\n",
    "xn['Wind'] = lb_make.fit_transform(xn['Wind'])\n",
    "xn['Condition'] = lb_make.fit_transform(xn['Condition'])\n",
    "df2=xn\n",
    "xn.columns"
   ]
  },
  {
   "cell_type": "code",
   "execution_count": 3275,
   "metadata": {},
   "outputs": [],
   "source": [
    "point['OP_UNIQUE_CARRIER']=3"
   ]
  },
  {
   "cell_type": "code",
   "execution_count": 3276,
   "metadata": {},
   "outputs": [],
   "source": [
    "#df2==taxi,df=arrival\n",
    "t=0\n",
    "d=10000\n",
    "for i in range(0,len(df2)):\n",
    "    if (abs(df2.iloc[i,9]==point[9]) and (df2.iloc[i,0]==point[0]) and (df2.iloc[i,1]==point[1])):\n",
    "            t=i\n",
    "            break\n",
    "    if (abs(df2.iloc[i,9]-point[9])<=d and (df2.iloc[i,0]==point[0]) and (df2.iloc[i,1]==point[1])):\n",
    "            t=i\n",
    "            d=abs(df2.iloc[i,9]-point[9])  \n",
    "point[11:23]=df2.iloc[t,11:23]"
   ]
  },
  {
   "cell_type": "code",
   "execution_count": 3277,
   "metadata": {},
   "outputs": [],
   "source": [
    "from lightgbm import LGBMRegressor\n",
    "import lightgbm as lgb\n",
    "lgbm = LGBMRegressor()\n",
    "model1= lgb.Booster(model_file=r'./model_taxi2.txt')"
   ]
  },
  {
   "cell_type": "code",
   "execution_count": 3278,
   "metadata": {},
   "outputs": [
    {
     "data": {
      "text/plain": [
       "15.50170723334524"
      ]
     },
     "execution_count": 3278,
     "metadata": {},
     "output_type": "execute_result"
    }
   ],
   "source": [
    "taxi=model1.predict(point)\n",
    "taxi[0]"
   ]
  },
  {
   "cell_type": "code",
   "execution_count": 3279,
   "metadata": {},
   "outputs": [],
   "source": [
    "point2=point.rename({\"DEST\":\"ORIGIN\"})\n",
    "point2['ORIGIN']=33\n",
    "point2['OP_UNIQUE_CARRIER']=2\n",
    "point2['TAXI_OUT']=taxi[0]\n",
    "point2['WHEELS_OFF_M']=point['DEP_TIME_M']+taxi[0]\n",
    "point2['Pred_Wheels_On']=point['CRS_ARR_M']+point['DEP_DELAY']-8\n",
    "point2=point2.reindex(['MONTH', 'DAY_OF_MONTH', 'DAY_OF_WEEK', 'OP_UNIQUE_CARRIER', 'ORIGIN',\n",
    "       'DEP_DELAY', 'TAXI_OUT', 'CRS_ELAPSED_TIME', 'DISTANCE', 'CRS_DEP_M',\n",
    "       'DEP_TIME_M', 'WHEELS_OFF_M', 'CRS_ARR_M', 'Pred_Wheels_On',\n",
    "       'Temperature', 'Dew Point', 'Humidity', 'Wind', 'Wind Speed',\n",
    "       'Wind Gust', 'Pressure', 'Condition', 'Before_Arrivals',\n",
    "       'After_Arrivals', 'Before_Departures', 'After_Departures'],axis=1)"
   ]
  },
  {
   "cell_type": "code",
   "execution_count": 3280,
   "metadata": {},
   "outputs": [],
   "source": [
    "#df2==taxi,df=arrival\n",
    "t=0\n",
    "d=10000\n",
    "for i in range(0,len(df)):\n",
    "    if (abs(df.iloc[i,13]==point2[13]) and (df.iloc[i,0]==point2[0]) and (df.iloc[i,1]==point2[1])):\n",
    "            t=i\n",
    "            break\n",
    "    if (abs(df.iloc[i,13]-point2[13])<=d and (df.iloc[i,0]==point2[0]) and (df.iloc[i,1]==point2[1])):\n",
    "            t=i\n",
    "            d=abs(df.iloc[i,13]-point2[13])\n",
    "point2[14:26]=df.iloc[t,14:26]"
   ]
  },
  {
   "cell_type": "code",
   "execution_count": 3281,
   "metadata": {},
   "outputs": [],
   "source": [
    "from lightgbm import LGBMRegressor\n",
    "import lightgbm as lgb\n",
    "lgbm = LGBMRegressor()\n",
    "model2= lgb.Booster(model_file=r'./model_light.txt')"
   ]
  },
  {
   "cell_type": "code",
   "execution_count": 3282,
   "metadata": {},
   "outputs": [
    {
     "data": {
      "text/plain": [
       "array([2.95817276])"
      ]
     },
     "execution_count": 3282,
     "metadata": {},
     "output_type": "execute_result"
    }
   ],
   "source": [
    "arr=model2.predict(point2)\n",
    "arr"
   ]
  },
  {
   "cell_type": "code",
   "execution_count": 3283,
   "metadata": {},
   "outputs": [
    {
     "data": {
      "text/plain": [
       "array([13.95817276])"
      ]
     },
     "execution_count": 3283,
     "metadata": {},
     "output_type": "execute_result"
    }
   ],
   "source": [
    "j_delay2=arr-point2['DEP_DELAY']\n",
    "j_delay2"
   ]
  },
  {
   "cell_type": "code",
   "execution_count": 3284,
   "metadata": {},
   "outputs": [
    {
     "data": {
      "text/plain": [
       "-4.020913620570286"
      ]
     },
     "execution_count": 3284,
     "metadata": {},
     "output_type": "execute_result"
    }
   ],
   "source": [
    "point3=point2\n",
    "point3['DEP_DELAY']=point3['DEP_DELAY']+(j_delay2/2)\n",
    "point3['DEP_DELAY']"
   ]
  },
  {
   "cell_type": "code",
   "execution_count": 3285,
   "metadata": {},
   "outputs": [],
   "source": [
    "point3=point3.drop(['ORIGIN','TAXI_OUT','WHEELS_OFF_M','Pred_Wheels_On'])\n",
    "point3['DEST']=56\n",
    "point3=point3.reindex(['MONTH', 'DAY_OF_MONTH', 'DAY_OF_WEEK', 'OP_UNIQUE_CARRIER', 'DEST',\n",
    "       'DEP_DELAY', 'CRS_ELAPSED_TIME', 'DISTANCE', 'CRS_DEP_M', 'DEP_TIME_M',\n",
    "       'CRS_ARR_M', 'Temperature', 'Dew Point', 'Humidity', 'Wind',\n",
    "       'Wind Speed', 'Wind Gust', 'Pressure', 'Condition', 'Before_Departures',\n",
    "       'After_Departures', 'Before_Arrivals', 'After_Arrivals'],axis=1)"
   ]
  },
  {
   "cell_type": "code",
   "execution_count": 3286,
   "metadata": {},
   "outputs": [],
   "source": [
    "point3['OP_UNIQUE_CARRIER']=3"
   ]
  },
  {
   "cell_type": "code",
   "execution_count": 3287,
   "metadata": {},
   "outputs": [],
   "source": [
    "#df2==taxi,df=arrival\n",
    "t=0\n",
    "d=10000\n",
    "for i in range(0,len(df2)):\n",
    "    if (abs(df2.iloc[i,9]==point3[9]) and (df2.iloc[i,0]==point3[0]) and (df2.iloc[i,1]==point3[1])):\n",
    "            t=i\n",
    "            break\n",
    "    if (abs(df2.iloc[i,9]-point3[9])<=d and (df2.iloc[i,0]==point3[0]) and (df2.iloc[i,1]==point3[1])):\n",
    "            t=i\n",
    "            d=abs(df2.iloc[i,9]-point[9])\n",
    "point3[11:23]=df2.iloc[t,11:23]"
   ]
  },
  {
   "cell_type": "code",
   "execution_count": 3288,
   "metadata": {},
   "outputs": [
    {
     "data": {
      "text/plain": [
       "16.0115174578938"
      ]
     },
     "execution_count": 3288,
     "metadata": {},
     "output_type": "execute_result"
    }
   ],
   "source": [
    "taxi2=model1.predict(point3)\n",
    "taxi2[0]"
   ]
  },
  {
   "cell_type": "code",
   "execution_count": 3289,
   "metadata": {},
   "outputs": [],
   "source": [
    "point4=point3.rename({\"DEST\":\"ORIGIN\"})\n",
    "point4['ORIGIN']=33\n",
    "point4['OP_UNIQUE_CARRIER']=2\n",
    "point4['TAXI_OUT']=taxi2[0]\n",
    "point4['WHEELS_OFF_M']=point4['DEP_TIME_M']+taxi2[0]\n",
    "point4['Pred_Wheels_On']=point4['CRS_ARR_M']+point4['DEP_DELAY']-8\n",
    "point4=point4.reindex(['MONTH', 'DAY_OF_MONTH', 'DAY_OF_WEEK', 'OP_UNIQUE_CARRIER', 'ORIGIN',\n",
    "       'DEP_DELAY', 'TAXI_OUT', 'CRS_ELAPSED_TIME', 'DISTANCE', 'CRS_DEP_M',\n",
    "       'DEP_TIME_M', 'WHEELS_OFF_M', 'CRS_ARR_M', 'Pred_Wheels_On',\n",
    "       'Temperature', 'Dew Point', 'Humidity', 'Wind', 'Wind Speed',\n",
    "       'Wind Gust', 'Pressure', 'Condition', 'Before_Arrivals',\n",
    "       'After_Arrivals', 'Before_Departures', 'After_Departures'],axis=1)"
   ]
  },
  {
   "cell_type": "code",
   "execution_count": 3290,
   "metadata": {},
   "outputs": [],
   "source": [
    "#df2==taxi,df=arrival\n",
    "t=0\n",
    "d=10000\n",
    "for i in range(0,len(df)):\n",
    "    if (abs(df.iloc[i,13]==point4[13]) and (df.iloc[i,0]==point4[0]) and (df.iloc[i,1]==point4[1])):\n",
    "            t=i\n",
    "            break\n",
    "    if (abs(df.iloc[i,13]-point4[13])<=d and (df.iloc[i,0]==point4[0]) and (df.iloc[i,1]==point4[1])):\n",
    "            t=i\n",
    "            d=abs(df.iloc[i,13]-point4[13])\n",
    "point4[14:26]=df.iloc[t,14:26]"
   ]
  },
  {
   "cell_type": "code",
   "execution_count": 3291,
   "metadata": {},
   "outputs": [
    {
     "data": {
      "text/plain": [
       "array([-4.32423307])"
      ]
     },
     "execution_count": 3291,
     "metadata": {},
     "output_type": "execute_result"
    }
   ],
   "source": [
    "arr2=model2.predict(point4)\n",
    "arr2"
   ]
  },
  {
   "cell_type": "code",
   "execution_count": 3292,
   "metadata": {},
   "outputs": [
    {
     "data": {
      "text/plain": [
       "array([-0.30331945])"
      ]
     },
     "execution_count": 3292,
     "metadata": {},
     "output_type": "execute_result"
    }
   ],
   "source": [
    "j_delay3=arr2-point4['DEP_DELAY']\n",
    "j_delay3"
   ]
  },
  {
   "cell_type": "code",
   "execution_count": 3293,
   "metadata": {},
   "outputs": [
    {
     "data": {
      "text/plain": [
       "-4.172573344281825"
      ]
     },
     "execution_count": 3293,
     "metadata": {},
     "output_type": "execute_result"
    }
   ],
   "source": [
    "point5=point4\n",
    "point5['DEP_DELAY']=point5['DEP_DELAY']+(j_delay3/2)\n",
    "point5['DEP_DELAY']"
   ]
  },
  {
   "cell_type": "code",
   "execution_count": 3294,
   "metadata": {},
   "outputs": [],
   "source": [
    "point5=point5.drop(['ORIGIN','TAXI_OUT','WHEELS_OFF_M','Pred_Wheels_On'])\n",
    "point5['DEST']=56\n",
    "point5=point5.reindex(['MONTH', 'DAY_OF_MONTH', 'DAY_OF_WEEK', 'OP_UNIQUE_CARRIER', 'DEST',\n",
    "       'DEP_DELAY', 'CRS_ELAPSED_TIME', 'DISTANCE', 'CRS_DEP_M', 'DEP_TIME_M',\n",
    "       'CRS_ARR_M', 'Temperature', 'Dew Point', 'Humidity', 'Wind',\n",
    "       'Wind Speed', 'Wind Gust', 'Pressure', 'Condition', 'Before_Departures',\n",
    "       'After_Departures', 'Before_Arrivals', 'After_Arrivals'],axis=1)"
   ]
  },
  {
   "cell_type": "code",
   "execution_count": 3295,
   "metadata": {},
   "outputs": [],
   "source": [
    "point5['OP_UNIQUE_CARRIER']=3"
   ]
  },
  {
   "cell_type": "code",
   "execution_count": 3296,
   "metadata": {},
   "outputs": [],
   "source": [
    "#df2==taxi,df=arrival\n",
    "t=0\n",
    "d=10000\n",
    "for i in range(0,len(df2)):\n",
    "    if (abs(df2.iloc[i,9]==point5[9]) and (df2.iloc[i,0]==point5[0]) and (df2.iloc[i,1]==point5[1])):\n",
    "            t=i\n",
    "            break\n",
    "    if (abs(df2.iloc[i,9]-point5[9])<=d and (df2.iloc[i,0]==point5[0]) and (df2.iloc[i,1]==point5[1])):\n",
    "            t=i\n",
    "            d=abs(df2.iloc[i,9]-point5[9])\n",
    "point5[11:23]=df2.iloc[t,11:23]"
   ]
  },
  {
   "cell_type": "code",
   "execution_count": 3297,
   "metadata": {},
   "outputs": [
    {
     "data": {
      "text/plain": [
       "16.0115174578938"
      ]
     },
     "execution_count": 3297,
     "metadata": {},
     "output_type": "execute_result"
    }
   ],
   "source": [
    "taxi3=model1.predict(point5)\n",
    "taxi3[0]"
   ]
  },
  {
   "cell_type": "code",
   "execution_count": 3298,
   "metadata": {},
   "outputs": [],
   "source": [
    "point6=point5.rename({\"DEST\":\"ORIGIN\"})\n",
    "point6['ORIGIN']=33\n",
    "point6['OP_UNIQUE_CARRIER']=2\n",
    "point6['TAXI_OUT']=taxi3[0]\n",
    "point6['WHEELS_OFF_M']=point6['DEP_TIME_M']+taxi3[0]\n",
    "point6['Pred_Wheels_On']=point6['CRS_ARR_M']+point6['DEP_DELAY']-8\n",
    "point6=point6.reindex(['MONTH', 'DAY_OF_MONTH', 'DAY_OF_WEEK', 'OP_UNIQUE_CARRIER', 'ORIGIN',\n",
    "       'DEP_DELAY', 'TAXI_OUT', 'CRS_ELAPSED_TIME', 'DISTANCE', 'CRS_DEP_M',\n",
    "       'DEP_TIME_M', 'WHEELS_OFF_M', 'CRS_ARR_M', 'Pred_Wheels_On',\n",
    "       'Temperature', 'Dew Point', 'Humidity', 'Wind', 'Wind Speed',\n",
    "       'Wind Gust', 'Pressure', 'Condition', 'Before_Arrivals',\n",
    "       'After_Arrivals', 'Before_Departures', 'After_Departures'],axis=1)"
   ]
  },
  {
   "cell_type": "code",
   "execution_count": 3299,
   "metadata": {},
   "outputs": [],
   "source": [
    "#df2==taxi,df=arrival\n",
    "t=0\n",
    "d=10000\n",
    "for i in range(0,len(df)):\n",
    "    if (abs(df.iloc[i,13]==point6[13]) and (df.iloc[i,0]==point6[0]) and (df.iloc[i,1]==point6[1])):\n",
    "            t=i\n",
    "            break\n",
    "    if (abs(df.iloc[i,13]-point6[13])<=d and (df.iloc[i,0]==point6[0]) and (df.iloc[i,1]==point6[1])):\n",
    "            t=i\n",
    "            d=abs(df.iloc[i,13]-point6[13])\n",
    "point6[14:26]=df.iloc[t,14:26]"
   ]
  },
  {
   "cell_type": "code",
   "execution_count": 3300,
   "metadata": {},
   "outputs": [
    {
     "data": {
      "text/plain": [
       "array([-4.32423307])"
      ]
     },
     "execution_count": 3300,
     "metadata": {},
     "output_type": "execute_result"
    }
   ],
   "source": [
    "arr3=model2.predict(point6)\n",
    "arr3"
   ]
  },
  {
   "cell_type": "code",
   "execution_count": 3301,
   "metadata": {},
   "outputs": [
    {
     "data": {
      "text/plain": [
       "array([-0.15165972])"
      ]
     },
     "execution_count": 3301,
     "metadata": {},
     "output_type": "execute_result"
    }
   ],
   "source": [
    "j_delay4=arr3-point6['DEP_DELAY']\n",
    "j_delay4"
   ]
  },
  {
   "cell_type": "code",
   "execution_count": 3302,
   "metadata": {},
   "outputs": [
    {
     "data": {
      "text/plain": [
       "-4.248403206137595"
      ]
     },
     "execution_count": 3302,
     "metadata": {},
     "output_type": "execute_result"
    }
   ],
   "source": [
    "point7=point6\n",
    "point7['DEP_DELAY']=point7['DEP_DELAY']+(j_delay4/2)\n",
    "point7['DEP_DELAY']"
   ]
  },
  {
   "cell_type": "code",
   "execution_count": 3303,
   "metadata": {},
   "outputs": [],
   "source": [
    "point7=point7.drop(['ORIGIN','TAXI_OUT','WHEELS_OFF_M','Pred_Wheels_On'])\n",
    "point7['DEST']=56\n",
    "point7=point7.reindex(['MONTH', 'DAY_OF_MONTH', 'DAY_OF_WEEK', 'OP_UNIQUE_CARRIER', 'DEST',\n",
    "       'DEP_DELAY', 'CRS_ELAPSED_TIME', 'DISTANCE', 'CRS_DEP_M', 'DEP_TIME_M',\n",
    "       'CRS_ARR_M', 'Temperature', 'Dew Point', 'Humidity', 'Wind',\n",
    "       'Wind Speed', 'Wind Gust', 'Pressure', 'Condition', 'Before_Departures',\n",
    "       'After_Departures', 'Before_Arrivals', 'After_Arrivals'],axis=1)"
   ]
  },
  {
   "cell_type": "code",
   "execution_count": 3304,
   "metadata": {},
   "outputs": [],
   "source": [
    "point7['OP_UNIQUE_CARRIER']=3"
   ]
  },
  {
   "cell_type": "code",
   "execution_count": 3305,
   "metadata": {},
   "outputs": [],
   "source": [
    "#df2==taxi,df=arrival\n",
    "t=0\n",
    "d=10000\n",
    "for i in range(0,len(df2)):\n",
    "    if (abs(df2.iloc[i,9]==point7[9]) and (df2.iloc[i,0]==point7[0]) and (df2.iloc[i,1]==point7[1])):\n",
    "            t=i\n",
    "            break\n",
    "    if (abs(df2.iloc[i,9]-point7[9])<=d and (df2.iloc[i,0]==point7[0]) and (df2.iloc[i,1]==point7[1])):\n",
    "            t=i\n",
    "            d=abs(df2.iloc[i,9]-point7[9])\n",
    "point7[11:23]=df2.iloc[t,11:23]"
   ]
  },
  {
   "cell_type": "code",
   "execution_count": 3306,
   "metadata": {},
   "outputs": [
    {
     "data": {
      "text/plain": [
       "16.0115174578938"
      ]
     },
     "execution_count": 3306,
     "metadata": {},
     "output_type": "execute_result"
    }
   ],
   "source": [
    "taxi4=model1.predict(point7)\n",
    "taxi4[0]"
   ]
  },
  {
   "cell_type": "code",
   "execution_count": 3307,
   "metadata": {},
   "outputs": [],
   "source": [
    "point8=point7.rename({\"DEST\":\"ORIGIN\"})\n",
    "point8['ORIGIN']=33\n",
    "point8['OP_UNIQUE_CARRIER']=2\n",
    "point8['TAXI_OUT']=taxi4[0]\n",
    "point8['WHEELS_OFF_M']=point8['DEP_TIME_M']+taxi4[0]\n",
    "point8['Pred_Wheels_On']=point8['CRS_ARR_M']+point8['DEP_DELAY']-8\n",
    "point8=point8.reindex(['MONTH', 'DAY_OF_MONTH', 'DAY_OF_WEEK', 'OP_UNIQUE_CARRIER', 'ORIGIN',\n",
    "       'DEP_DELAY', 'TAXI_OUT', 'CRS_ELAPSED_TIME', 'DISTANCE', 'CRS_DEP_M',\n",
    "       'DEP_TIME_M', 'WHEELS_OFF_M', 'CRS_ARR_M', 'Pred_Wheels_On',\n",
    "       'Temperature', 'Dew Point', 'Humidity', 'Wind', 'Wind Speed',\n",
    "       'Wind Gust', 'Pressure', 'Condition', 'Before_Arrivals',\n",
    "       'After_Arrivals', 'Before_Departures', 'After_Departures'],axis=1)"
   ]
  },
  {
   "cell_type": "code",
   "execution_count": 3308,
   "metadata": {},
   "outputs": [],
   "source": [
    "#df2==taxi,df=arrival\n",
    "t=0\n",
    "for i in range(0,len(df)):\n",
    "    if (abs(df.iloc[i,13]==point8[13]) and (df.iloc[i,0]==point8[0]) and (df.iloc[i,1]==point8[1])):\n",
    "            t=i\n",
    "            break\n",
    "    if (abs(df.iloc[i,13]-point8[13])<=d and (df.iloc[i,0]==point8[0]) and (df.iloc[i,1]==point8[1])):\n",
    "            t=i\n",
    "            d=abs(df.iloc[i,9]-point8[9])\n",
    "point8[14:26]=df.iloc[t,14:26]"
   ]
  },
  {
   "cell_type": "code",
   "execution_count": 3309,
   "metadata": {},
   "outputs": [
    {
     "data": {
      "text/plain": [
       "array([-22.81039546])"
      ]
     },
     "execution_count": 3309,
     "metadata": {},
     "output_type": "execute_result"
    }
   ],
   "source": [
    "arr4=model2.predict(point8)\n",
    "arr4"
   ]
  },
  {
   "cell_type": "code",
   "execution_count": 3310,
   "metadata": {},
   "outputs": [
    {
     "data": {
      "text/plain": [
       "array([-18.56199226])"
      ]
     },
     "execution_count": 3310,
     "metadata": {},
     "output_type": "execute_result"
    }
   ],
   "source": [
    "j_delay5=arr4-point8['DEP_DELAY']\n",
    "j_delay5"
   ]
  },
  {
   "cell_type": "code",
   "execution_count": 3311,
   "metadata": {},
   "outputs": [
    {
     "data": {
      "text/plain": [
       "-13.52939933420986"
      ]
     },
     "execution_count": 3311,
     "metadata": {},
     "output_type": "execute_result"
    }
   ],
   "source": [
    "point9=point8\n",
    "point9['DEP_DELAY']=point9['DEP_DELAY']+(j_delay5/2)\n",
    "point9['DEP_DELAY']"
   ]
  },
  {
   "cell_type": "code",
   "execution_count": 3312,
   "metadata": {},
   "outputs": [],
   "source": [
    "point9=point9.drop(['ORIGIN','TAXI_OUT','WHEELS_OFF_M','Pred_Wheels_On'])\n",
    "point9['DEST']=56\n",
    "point9=point9.reindex(['MONTH', 'DAY_OF_MONTH', 'DAY_OF_WEEK', 'OP_UNIQUE_CARRIER', 'DEST',\n",
    "       'DEP_DELAY', 'CRS_ELAPSED_TIME', 'DISTANCE', 'CRS_DEP_M', 'DEP_TIME_M',\n",
    "       'CRS_ARR_M', 'Temperature', 'Dew Point', 'Humidity', 'Wind',\n",
    "       'Wind Speed', 'Wind Gust', 'Pressure', 'Condition', 'Before_Departures',\n",
    "       'After_Departures', 'Before_Arrivals', 'After_Arrivals'],axis=1)"
   ]
  },
  {
   "cell_type": "code",
   "execution_count": 3313,
   "metadata": {},
   "outputs": [],
   "source": [
    "point9['OP_UNIQUE_CARRIER']=3"
   ]
  },
  {
   "cell_type": "code",
   "execution_count": 3314,
   "metadata": {},
   "outputs": [],
   "source": [
    "#df2==taxi,df=arrival\n",
    "t=0\n",
    "d=10000\n",
    "for i in range(0,len(df2)):\n",
    "    if (abs(df2.iloc[i,9]==point9[9]) and (df2.iloc[i,0]==point9[0]) and (df2.iloc[i,1]==point9[1])):\n",
    "            t=i\n",
    "            break\n",
    "    if (abs(df2.iloc[i,9]-point9[9])<=d and (df2.iloc[i,0]==point9[0]) and (df2.iloc[i,1]==point9[1])):\n",
    "            t=i\n",
    "            d=abs(df2.iloc[i,9]-point9[9])\n",
    "point9[11:23]=df2.iloc[t,11:23]"
   ]
  },
  {
   "cell_type": "code",
   "execution_count": 3315,
   "metadata": {},
   "outputs": [
    {
     "data": {
      "text/plain": [
       "15.811572944142576"
      ]
     },
     "execution_count": 3315,
     "metadata": {},
     "output_type": "execute_result"
    }
   ],
   "source": [
    "taxi5=model1.predict(point9)\n",
    "taxi5[0]"
   ]
  },
  {
   "cell_type": "code",
   "execution_count": 3316,
   "metadata": {},
   "outputs": [],
   "source": [
    "point10=point9.rename({\"DEST\":\"ORIGIN\"})\n",
    "point10['ORIGIN']=33\n",
    "point10['OP_UNIQUE_CARRIER']=2\n",
    "point10['TAXI_OUT']=taxi5[0]\n",
    "point10['WHEELS_OFF_M']=point10['DEP_TIME_M']+taxi5[0]\n",
    "point10['Pred_Wheels_On']=point10['CRS_ARR_M']+point10['DEP_DELAY']-8\n",
    "point10=point10.reindex(['MONTH', 'DAY_OF_MONTH', 'DAY_OF_WEEK', 'OP_UNIQUE_CARRIER', 'ORIGIN',\n",
    "       'DEP_DELAY', 'TAXI_OUT', 'CRS_ELAPSED_TIME', 'DISTANCE', 'CRS_DEP_M',\n",
    "       'DEP_TIME_M', 'WHEELS_OFF_M', 'CRS_ARR_M', 'Pred_Wheels_On',\n",
    "       'Temperature', 'Dew Point', 'Humidity', 'Wind', 'Wind Speed',\n",
    "       'Wind Gust', 'Pressure', 'Condition', 'Before_Arrivals',\n",
    "       'After_Arrivals', 'Before_Departures', 'After_Departures'],axis=1)"
   ]
  },
  {
   "cell_type": "code",
   "execution_count": 3317,
   "metadata": {},
   "outputs": [],
   "source": [
    "#df2==taxi,df=arrival\n",
    "t=0\n",
    "for i in range(0,len(df)):\n",
    "    if (abs(df.iloc[i,13]==point10[13]) and (df.iloc[i,0]==point10[0]) and (df.iloc[i,1]==point10[1])):\n",
    "            t=i\n",
    "            break\n",
    "    if (abs(df.iloc[i,13]-point10[13])<=d and (df.iloc[i,0]==point10[0]) and (df.iloc[i,1]==point10[1])):\n",
    "            t=i\n",
    "            d=abs(df.iloc[i,9]-point10[9])\n",
    "point10[14:26]=df.iloc[t,14:26]"
   ]
  },
  {
   "cell_type": "code",
   "execution_count": 3318,
   "metadata": {},
   "outputs": [
    {
     "data": {
      "text/plain": [
       "array([-3.57862874])"
      ]
     },
     "execution_count": 3318,
     "metadata": {},
     "output_type": "execute_result"
    }
   ],
   "source": [
    "arr5=model2.predict(point10)\n",
    "arr5"
   ]
  },
  {
   "cell_type": "code",
   "execution_count": 3319,
   "metadata": {},
   "outputs": [
    {
     "data": {
      "text/plain": [
       "array([9.9507706])"
      ]
     },
     "execution_count": 3319,
     "metadata": {},
     "output_type": "execute_result"
    }
   ],
   "source": [
    "j_delay6=arr5-point10['DEP_DELAY']\n",
    "j_delay6"
   ]
  },
  {
   "cell_type": "code",
   "execution_count": 3320,
   "metadata": {},
   "outputs": [
    {
     "data": {
      "text/plain": [
       "-8.55401403660371"
      ]
     },
     "execution_count": 3320,
     "metadata": {},
     "output_type": "execute_result"
    }
   ],
   "source": [
    "point11=point10\n",
    "point11['DEP_DELAY']=point11['DEP_DELAY']+(j_delay6/2)\n",
    "point11['DEP_DELAY']"
   ]
  },
  {
   "cell_type": "code",
   "execution_count": 3321,
   "metadata": {},
   "outputs": [],
   "source": [
    "point11=point11.drop(['ORIGIN','TAXI_OUT','WHEELS_OFF_M','Pred_Wheels_On'])\n",
    "point11['DEST']=56\n",
    "point11=point11.reindex(['MONTH', 'DAY_OF_MONTH', 'DAY_OF_WEEK', 'OP_UNIQUE_CARRIER', 'DEST',\n",
    "       'DEP_DELAY', 'CRS_ELAPSED_TIME', 'DISTANCE', 'CRS_DEP_M', 'DEP_TIME_M',\n",
    "       'CRS_ARR_M', 'Temperature', 'Dew Point', 'Humidity', 'Wind',\n",
    "       'Wind Speed', 'Wind Gust', 'Pressure', 'Condition', 'Before_Departures',\n",
    "       'After_Departures', 'Before_Arrivals', 'After_Arrivals'],axis=1)"
   ]
  },
  {
   "cell_type": "code",
   "execution_count": 3322,
   "metadata": {},
   "outputs": [],
   "source": [
    "point11['OP_UNIQUE_CARRIER']=3"
   ]
  },
  {
   "cell_type": "code",
   "execution_count": 3323,
   "metadata": {},
   "outputs": [],
   "source": [
    "#df2==taxi,df=arrival\n",
    "t=0\n",
    "d=10000\n",
    "for i in range(0,len(df2)):\n",
    "    if (abs(df2.iloc[i,9]==point11[9]) and (df2.iloc[i,0]==point11[0]) and (df2.iloc[i,1]==point11[1])):\n",
    "            t=i\n",
    "            break\n",
    "    if (abs(df2.iloc[i,9]-point11[9])<=d and (df2.iloc[i,0]==point11[0]) and (df2.iloc[i,1]==point11[1])):\n",
    "            t=i\n",
    "            d=abs(df2.iloc[i,9]-point11[9])\n",
    "point11[11:23]=df2.iloc[t,11:23]"
   ]
  },
  {
   "cell_type": "code",
   "execution_count": 3324,
   "metadata": {},
   "outputs": [
    {
     "data": {
      "text/plain": [
       "16.075079854098764"
      ]
     },
     "execution_count": 3324,
     "metadata": {},
     "output_type": "execute_result"
    }
   ],
   "source": [
    "taxi6=model1.predict(point11)\n",
    "taxi6[0]"
   ]
  },
  {
   "cell_type": "code",
   "execution_count": 3325,
   "metadata": {},
   "outputs": [],
   "source": [
    "point12=point11.rename({\"DEST\":\"ORIGIN\"})\n",
    "point12['ORIGIN']=33\n",
    "point12['OP_UNIQUE_CARRIER']=2\n",
    "point12['TAXI_OUT']=taxi6[0]\n",
    "point12['WHEELS_OFF_M']=point12['DEP_TIME_M']+taxi6[0]\n",
    "point12['Pred_Wheels_On']=point12['CRS_ARR_M']+point12['DEP_DELAY']-8\n",
    "point12=point12.reindex(['MONTH', 'DAY_OF_MONTH', 'DAY_OF_WEEK', 'OP_UNIQUE_CARRIER', 'ORIGIN',\n",
    "       'DEP_DELAY', 'TAXI_OUT', 'CRS_ELAPSED_TIME', 'DISTANCE', 'CRS_DEP_M',\n",
    "       'DEP_TIME_M', 'WHEELS_OFF_M', 'CRS_ARR_M', 'Pred_Wheels_On',\n",
    "       'Temperature', 'Dew Point', 'Humidity', 'Wind', 'Wind Speed',\n",
    "       'Wind Gust', 'Pressure', 'Condition', 'Before_Arrivals',\n",
    "       'After_Arrivals', 'Before_Departures', 'After_Departures'],axis=1)"
   ]
  },
  {
   "cell_type": "code",
   "execution_count": 3326,
   "metadata": {},
   "outputs": [],
   "source": [
    "#df2==taxi,df=arrival\n",
    "t=0\n",
    "for i in range(0,len(df)):\n",
    "    if (abs(df.iloc[i,13]==point12[13]) and (df.iloc[i,0]==point12[0]) and (df.iloc[i,1]==point12[1])):\n",
    "            t=i\n",
    "            break\n",
    "    if (abs(df.iloc[i,13]-point12[13])<=d and (df.iloc[i,0]==point12[0]) and (df.iloc[i,1]==point12[1])):\n",
    "            t=i\n",
    "            d=abs(df.iloc[i,9]-point12[9])\n",
    "point12[14:26]=df.iloc[t,14:26]"
   ]
  },
  {
   "cell_type": "code",
   "execution_count": 3327,
   "metadata": {},
   "outputs": [
    {
     "data": {
      "text/plain": [
       "array([3.5279692])"
      ]
     },
     "execution_count": 3327,
     "metadata": {},
     "output_type": "execute_result"
    }
   ],
   "source": [
    "arr6=model2.predict(point12)\n",
    "arr6"
   ]
  },
  {
   "cell_type": "code",
   "execution_count": 3328,
   "metadata": {},
   "outputs": [
    {
     "data": {
      "text/plain": [
       "array([12.08198324])"
      ]
     },
     "execution_count": 3328,
     "metadata": {},
     "output_type": "execute_result"
    }
   ],
   "source": [
    "j_delay7=arr6-point12['DEP_DELAY']\n",
    "j_delay7"
   ]
  },
  {
   "cell_type": "code",
   "execution_count": 3329,
   "metadata": {},
   "outputs": [],
   "source": [
    "k=19.4"
   ]
  },
  {
   "cell_type": "code",
   "execution_count": 3330,
   "metadata": {},
   "outputs": [],
   "source": [
    "point7['DEP_DELAY']=k+5\n"
   ]
  },
  {
   "cell_type": "code",
   "execution_count": 3331,
   "metadata": {},
   "outputs": [],
   "source": [
    "#df2==taxi,df=arrival\n",
    "t=0\n",
    "d=10000\n",
    "for i in range(0,len(df2)):\n",
    "    if (abs(df2.iloc[i,9]==point7[9]) and (df2.iloc[i,0]==point7[0]) and (df2.iloc[i,1]==point7[1])):\n",
    "            t=i\n",
    "            break\n",
    "    if (abs(df2.iloc[i,9]-point7[9])<=d and (df2.iloc[i,0]==point7[0]) and (df2.iloc[i,1]==point7[1])):\n",
    "            t=i\n",
    "            d=abs(df2.iloc[i,9]-point7[9])\n",
    "point7[11:23]=df2.iloc[t,11:23]"
   ]
  },
  {
   "cell_type": "code",
   "execution_count": 3332,
   "metadata": {},
   "outputs": [
    {
     "data": {
      "text/plain": [
       "16.078461754179948"
      ]
     },
     "execution_count": 3332,
     "metadata": {},
     "output_type": "execute_result"
    }
   ],
   "source": [
    "taxi4=model1.predict(point7)\n",
    "taxi4[0]"
   ]
  },
  {
   "cell_type": "code",
   "execution_count": 3333,
   "metadata": {},
   "outputs": [],
   "source": [
    "point8=point7.rename({\"DEST\":\"ORIGIN\"})\n",
    "point8['ORIGIN']=33\n",
    "point8['OP_UNIQUE_CARRIER']=2\n",
    "point8['TAXI_OUT']=taxi4[0]\n",
    "point8['WHEELS_OFF_M']=point8['DEP_TIME_M']+taxi4[0]\n",
    "point8['Pred_Wheels_On']=point8['CRS_ARR_M']+point8['DEP_DELAY']-8\n",
    "point8=point8.reindex(['MONTH', 'DAY_OF_MONTH', 'DAY_OF_WEEK', 'OP_UNIQUE_CARRIER', 'ORIGIN',\n",
    "       'DEP_DELAY', 'TAXI_OUT', 'CRS_ELAPSED_TIME', 'DISTANCE', 'CRS_DEP_M',\n",
    "       'DEP_TIME_M', 'WHEELS_OFF_M', 'CRS_ARR_M', 'Pred_Wheels_On',\n",
    "       'Temperature', 'Dew Point', 'Humidity', 'Wind', 'Wind Speed',\n",
    "       'Wind Gust', 'Pressure', 'Condition', 'Before_Arrivals',\n",
    "       'After_Arrivals', 'Before_Departures', 'After_Departures'],axis=1)"
   ]
  },
  {
   "cell_type": "code",
   "execution_count": 3334,
   "metadata": {},
   "outputs": [],
   "source": [
    "#df2==taxi,df=arrival\n",
    "t=0\n",
    "for i in range(0,len(df)):\n",
    "    if (abs(df.iloc[i,13]==point8[13]) and (df.iloc[i,0]==point8[0]) and (df.iloc[i,1]==point8[1])):\n",
    "            t=i\n",
    "            break\n",
    "    if (abs(df.iloc[i,13]-point8[13])<=d and (df.iloc[i,0]==point8[0]) and (df.iloc[i,1]==point8[1])):\n",
    "            t=i\n",
    "            d=abs(df.iloc[i,9]-point8[9])\n",
    "point8[14:26]=df.iloc[t,14:26]"
   ]
  },
  {
   "cell_type": "code",
   "execution_count": 3335,
   "metadata": {},
   "outputs": [
    {
     "data": {
      "text/plain": [
       "array([19.91065386])"
      ]
     },
     "execution_count": 3335,
     "metadata": {},
     "output_type": "execute_result"
    }
   ],
   "source": [
    "arr4=model2.predict(point8)\n",
    "arr4"
   ]
  },
  {
   "cell_type": "code",
   "execution_count": 3336,
   "metadata": {},
   "outputs": [
    {
     "data": {
      "text/plain": [
       "array([-4.48934614])"
      ]
     },
     "execution_count": 3336,
     "metadata": {},
     "output_type": "execute_result"
    }
   ],
   "source": [
    "j_delay5=arr4-point8['DEP_DELAY']\n",
    "j_delay5"
   ]
  },
  {
   "cell_type": "code",
   "execution_count": 3337,
   "metadata": {},
   "outputs": [],
   "source": [
    "point7['DEP_DELAY']=k+10\n"
   ]
  },
  {
   "cell_type": "code",
   "execution_count": 3338,
   "metadata": {},
   "outputs": [],
   "source": [
    "#df2==taxi,df=arrival\n",
    "t=0\n",
    "d=10000\n",
    "for i in range(0,len(df2)):\n",
    "    if (abs(df2.iloc[i,9]==point7[9]) and (df2.iloc[i,0]==point7[0]) and (df2.iloc[i,1]==point7[1])):\n",
    "            t=i\n",
    "            break\n",
    "    if (abs(df2.iloc[i,9]-point7[9])<=d and (df2.iloc[i,0]==point7[0]) and (df2.iloc[i,1]==point7[1])):\n",
    "            t=i\n",
    "            d=abs(df2.iloc[i,9]-point7[9])\n",
    "point7[11:23]=df2.iloc[t,11:23]"
   ]
  },
  {
   "cell_type": "code",
   "execution_count": 3339,
   "metadata": {},
   "outputs": [
    {
     "data": {
      "text/plain": [
       "16.701704124086582"
      ]
     },
     "execution_count": 3339,
     "metadata": {},
     "output_type": "execute_result"
    }
   ],
   "source": [
    "taxi4=model1.predict(point7)\n",
    "taxi4[0]"
   ]
  },
  {
   "cell_type": "code",
   "execution_count": 3340,
   "metadata": {},
   "outputs": [],
   "source": [
    "point8=point7.rename({\"DEST\":\"ORIGIN\"})\n",
    "point8['ORIGIN']=33\n",
    "point8['OP_UNIQUE_CARRIER']=2\n",
    "point8['TAXI_OUT']=taxi4[0]\n",
    "point8['WHEELS_OFF_M']=point8['DEP_TIME_M']+taxi4[0]\n",
    "point8['Pred_Wheels_On']=point8['CRS_ARR_M']+point8['DEP_DELAY']-8\n",
    "point8=point8.reindex(['MONTH', 'DAY_OF_MONTH', 'DAY_OF_WEEK', 'OP_UNIQUE_CARRIER', 'ORIGIN',\n",
    "       'DEP_DELAY', 'TAXI_OUT', 'CRS_ELAPSED_TIME', 'DISTANCE', 'CRS_DEP_M',\n",
    "       'DEP_TIME_M', 'WHEELS_OFF_M', 'CRS_ARR_M', 'Pred_Wheels_On',\n",
    "       'Temperature', 'Dew Point', 'Humidity', 'Wind', 'Wind Speed',\n",
    "       'Wind Gust', 'Pressure', 'Condition', 'Before_Arrivals',\n",
    "       'After_Arrivals', 'Before_Departures', 'After_Departures'],axis=1)"
   ]
  },
  {
   "cell_type": "code",
   "execution_count": 3341,
   "metadata": {},
   "outputs": [],
   "source": [
    "#df2==taxi,df=arrival\n",
    "t=0\n",
    "for i in range(0,len(df)):\n",
    "    if (abs(df.iloc[i,13]==point8[13]) and (df.iloc[i,0]==point8[0]) and (df.iloc[i,1]==point8[1])):\n",
    "            t=i\n",
    "            break\n",
    "    if (abs(df.iloc[i,13]-point8[13])<=d and (df.iloc[i,0]==point8[0]) and (df.iloc[i,1]==point8[1])):\n",
    "            t=i\n",
    "            d=abs(df.iloc[i,9]-point8[9])\n",
    "point8[14:26]=df.iloc[t,14:26]"
   ]
  },
  {
   "cell_type": "code",
   "execution_count": 3342,
   "metadata": {},
   "outputs": [
    {
     "data": {
      "text/plain": [
       "array([22.43640685])"
      ]
     },
     "execution_count": 3342,
     "metadata": {},
     "output_type": "execute_result"
    }
   ],
   "source": [
    "arr4=model2.predict(point8)\n",
    "arr4"
   ]
  },
  {
   "cell_type": "code",
   "execution_count": 3343,
   "metadata": {},
   "outputs": [
    {
     "data": {
      "text/plain": [
       "array([-6.96359315])"
      ]
     },
     "execution_count": 3343,
     "metadata": {},
     "output_type": "execute_result"
    }
   ],
   "source": [
    "j_delay5=arr4-point8['DEP_DELAY']\n",
    "j_delay5"
   ]
  },
  {
   "cell_type": "code",
   "execution_count": 3344,
   "metadata": {},
   "outputs": [],
   "source": [
    "point7['DEP_DELAY']=k-5\n"
   ]
  },
  {
   "cell_type": "code",
   "execution_count": 3345,
   "metadata": {},
   "outputs": [],
   "source": [
    "#df2==taxi,df=arrival\n",
    "t=0\n",
    "d=10000\n",
    "for i in range(0,len(df2)):\n",
    "    if (abs(df2.iloc[i,9]==point7[9]) and (df2.iloc[i,0]==point7[0]) and (df2.iloc[i,1]==point7[1])):\n",
    "            t=i\n",
    "            break\n",
    "    if (abs(df2.iloc[i,9]-point7[9])<=d and (df2.iloc[i,0]==point7[0]) and (df2.iloc[i,1]==point7[1])):\n",
    "            t=i\n",
    "            d=abs(df2.iloc[i,9]-point7[9])\n",
    "point7[11:23]=df2.iloc[t,11:23]"
   ]
  },
  {
   "cell_type": "code",
   "execution_count": 3346,
   "metadata": {},
   "outputs": [
    {
     "data": {
      "text/plain": [
       "16.434789967365766"
      ]
     },
     "execution_count": 3346,
     "metadata": {},
     "output_type": "execute_result"
    }
   ],
   "source": [
    "taxi4=model1.predict(point7)\n",
    "taxi4[0]"
   ]
  },
  {
   "cell_type": "code",
   "execution_count": 3347,
   "metadata": {},
   "outputs": [],
   "source": [
    "point8=point7.rename({\"DEST\":\"ORIGIN\"})\n",
    "point8['ORIGIN']=33\n",
    "point8['OP_UNIQUE_CARRIER']=2\n",
    "point8['TAXI_OUT']=taxi4[0]\n",
    "point8['WHEELS_OFF_M']=point8['DEP_TIME_M']+taxi4[0]\n",
    "point8['Pred_Wheels_On']=point8['CRS_ARR_M']+point8['DEP_DELAY']-8\n",
    "point8=point8.reindex(['MONTH', 'DAY_OF_MONTH', 'DAY_OF_WEEK', 'OP_UNIQUE_CARRIER', 'ORIGIN',\n",
    "       'DEP_DELAY', 'TAXI_OUT', 'CRS_ELAPSED_TIME', 'DISTANCE', 'CRS_DEP_M',\n",
    "       'DEP_TIME_M', 'WHEELS_OFF_M', 'CRS_ARR_M', 'Pred_Wheels_On',\n",
    "       'Temperature', 'Dew Point', 'Humidity', 'Wind', 'Wind Speed',\n",
    "       'Wind Gust', 'Pressure', 'Condition', 'Before_Arrivals',\n",
    "       'After_Arrivals', 'Before_Departures', 'After_Departures'],axis=1)"
   ]
  },
  {
   "cell_type": "code",
   "execution_count": 3348,
   "metadata": {},
   "outputs": [],
   "source": [
    "#df2==taxi,df=arrival\n",
    "t=0\n",
    "for i in range(0,len(df)):\n",
    "    if (abs(df.iloc[i,13]==point8[13]) and (df.iloc[i,0]==point8[0]) and (df.iloc[i,1]==point8[1])):\n",
    "            t=i\n",
    "            break\n",
    "    if (abs(df.iloc[i,13]-point8[13])<=d and (df.iloc[i,0]==point8[0]) and (df.iloc[i,1]==point8[1])):\n",
    "            t=i\n",
    "            d=abs(df.iloc[i,9]-point8[9])\n",
    "point8[14:26]=df.iloc[t,14:26]"
   ]
  },
  {
   "cell_type": "code",
   "execution_count": 3349,
   "metadata": {},
   "outputs": [
    {
     "data": {
      "text/plain": [
       "array([11.15033295])"
      ]
     },
     "execution_count": 3349,
     "metadata": {},
     "output_type": "execute_result"
    }
   ],
   "source": [
    "arr4=model2.predict(point8)\n",
    "arr4"
   ]
  },
  {
   "cell_type": "code",
   "execution_count": 3350,
   "metadata": {},
   "outputs": [
    {
     "data": {
      "text/plain": [
       "array([-3.24966705])"
      ]
     },
     "execution_count": 3350,
     "metadata": {},
     "output_type": "execute_result"
    }
   ],
   "source": [
    "j_delay5=arr4-point8['DEP_DELAY']\n",
    "j_delay5"
   ]
  }
 ],
 "metadata": {
  "kernelspec": {
   "display_name": "Python 3",
   "language": "python",
   "name": "python3"
  },
  "language_info": {
   "codemirror_mode": {
    "name": "ipython",
    "version": 3
   },
   "file_extension": ".py",
   "mimetype": "text/x-python",
   "name": "python",
   "nbconvert_exporter": "python",
   "pygments_lexer": "ipython3",
   "version": "3.8.10"
  }
 },
 "nbformat": 4,
 "nbformat_minor": 2
}
